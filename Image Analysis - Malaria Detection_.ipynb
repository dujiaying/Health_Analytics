{
 "cells": [
  {
   "cell_type": "markdown",
   "metadata": {},
   "source": [
    "# Image Analysis - Malaria Detection"
   ]
  },
  {
   "cell_type": "code",
   "execution_count": 21,
   "metadata": {},
   "outputs": [],
   "source": [
    "# load the packages\n",
    "from pyimagesearch import config\n",
    "from pyimagesearch.resnet import ResNet\n",
    "from imutils import paths\n",
    "import random\n",
    "import shutil\n",
    "import os\n",
    "\n",
    "from keras.preprocessing.image import ImageDataGenerator\n",
    "from keras.callbacks import LearningRateScheduler\n",
    "from keras.optimizers import SGD\n",
    "from keras import optimizers\n",
    "from keras.applications import VGG16\n",
    "from keras.models import Sequential\n",
    "from keras import layers\n",
    "from keras.layers import Dense, Activation\n",
    "from keras import regularizers\n",
    "from keras.callbacks import EarlyStopping\n",
    "from keras.callbacks import ReduceLROnPlateau\n",
    "\n",
    "from sklearn.metrics import classification_report\n",
    "\n",
    "import matplotlib.pyplot as plt\n",
    "import numpy as np\n",
    "\n",
    "%matplotlib inline"
   ]
  },
  {
   "cell_type": "code",
   "execution_count": 2,
   "metadata": {},
   "outputs": [],
   "source": [
    "# initialize the path to the *original* input directory of images\n",
    "ORIG_INPUT_DATASET = \"malaria/cell_images\"\n",
    "\n",
    "# initialize the base path to the *new* directory that will contain our images after computing the training and testing split\n",
    "BASE_PATH = \"malaria\"\n",
    "\n",
    "# derive the training, validation, and testing directories\n",
    "TRAIN_PATH = os.path.sep.join([BASE_PATH, \"training\"])\n",
    "VAL_PATH = os.path.sep.join([BASE_PATH, \"validation\"])\n",
    "TEST_PATH = os.path.sep.join([BASE_PATH, \"testing\"])\n",
    "\n",
    "# define the amount of data that will be used training\n",
    "TRAIN_SPLIT = 0.8\n",
    "\n",
    "# the amount of validation data will be a percentage of the *training* data\n",
    "VAL_SPLIT = 0.1"
   ]
  },
  {
   "cell_type": "code",
   "execution_count": 3,
   "metadata": {},
   "outputs": [],
   "source": [
    "# grab the paths to all input images in the original input directory and shuffle them\n",
    "imagePaths = list(paths.list_images(config.ORIG_INPUT_DATASET))\n",
    "random.seed(42)\n",
    "random.shuffle(imagePaths)"
   ]
  },
  {
   "cell_type": "code",
   "execution_count": 4,
   "metadata": {},
   "outputs": [],
   "source": [
    "# compute the training and testing split\n",
    "i = int(len(imagePaths) * config.TRAIN_SPLIT)\n",
    "trainPaths = imagePaths[:i] # 80% of the data\n",
    "testPaths = imagePaths[i:] # 20% of the data\n",
    "\n",
    "# we'll be using part of the training data for validation\n",
    "i = int(len(trainPaths) * config.VAL_SPLIT)\n",
    "valPaths = trainPaths[:i] # 8% of the data\n",
    "trainPaths = trainPaths[i:] #72% of the data"
   ]
  },
  {
   "cell_type": "code",
   "execution_count": 5,
   "metadata": {},
   "outputs": [],
   "source": [
    "# define the datasets that we'll be building\n",
    "datasets = [\n",
    "    (\"training\", trainPaths, config.TRAIN_PATH),\n",
    "    (\"validation\", valPaths, config.VAL_PATH),\n",
    "    (\"testing\", testPaths, config.TEST_PATH)\n",
    "]"
   ]
  },
  {
   "cell_type": "code",
   "execution_count": 6,
   "metadata": {},
   "outputs": [
    {
     "name": "stdout",
     "output_type": "stream",
     "text": [
      "[INFO] building 'training' split\n",
      "[INFO] building 'validation' split\n",
      "[INFO] building 'testing' split\n"
     ]
    }
   ],
   "source": [
    "# loop over the datasets\n",
    "for (dType, imagePaths, baseOutput) in datasets:\n",
    "    \n",
    "    # show which data split we are creating\n",
    "    print(\"[INFO] building '{}' split\".format(dType))\n",
    "    \n",
    "    # if the output base output directory does not exist, create it\n",
    "    if not os.path.exists(baseOutput):\n",
    "        print(\"[INFO] 'creating {}' directory\".format(baseOutput))\n",
    "        os.makedirs(baseOutput)\n",
    "        \n",
    "    # loop over the input image paths\n",
    "    for inputPath in imagePaths:\n",
    "        \n",
    "        # extract the filename of the input image along with its corresponding class label\n",
    "        filename = inputPath.split(os.path.sep)[-1]\n",
    "        label = inputPath.split(os.path.sep)[-2]\n",
    "\n",
    "        # build the path to the label directory\n",
    "        labelPath = os.path.sep.join([baseOutput, label])\n",
    "\n",
    "        # if the label output directory does not exist, create it\n",
    "        if not os.path.exists(labelPath):\n",
    "            print(\"[INFO] 'creating {}' directory\".format(labelPath))\n",
    "            os.makedirs(labelPath)\n",
    "            \n",
    "        # construct the path to the destination image and then copy the image itself\n",
    "        p = os.path.sep.join([labelPath, filename])\n",
    "        shutil.copy2(inputPath, p)"
   ]
  },
  {
   "cell_type": "code",
   "execution_count": 7,
   "metadata": {},
   "outputs": [],
   "source": [
    "# determine the total number of image paths in training, validation,\n",
    "# and testing directories\n",
    "totalTrain = len(list(paths.list_images(config.TRAIN_PATH)))\n",
    "totalVal = len(list(paths.list_images(config.VAL_PATH)))\n",
    "totalTest = len(list(paths.list_images(config.TEST_PATH)))"
   ]
  },
  {
   "cell_type": "code",
   "execution_count": 8,
   "metadata": {},
   "outputs": [],
   "source": [
    "# initialize the training data augmentation object\n",
    "trainAug = ImageDataGenerator(\n",
    "    rescale = 1 / 255.0,\n",
    "    rotation_range = 90,\n",
    "    zoom_range = [0.5, 1.5],\n",
    "    width_shift_range = 0.2,\n",
    "    height_shift_range = 0.2,\n",
    "    shear_range = 0.15,\n",
    "    horizontal_flip = True,\n",
    "    vertical_flip = True,\n",
    "    brightness_range = [0.5, 1.5],\n",
    "    fill_mode = \"nearest\")\n",
    "# initialize the validation (and testing) data augmentation object\n",
    "valAug = ImageDataGenerator(rescale = 1 / 255.0)"
   ]
  },
  {
   "cell_type": "code",
   "execution_count": 9,
   "metadata": {},
   "outputs": [
    {
     "name": "stdout",
     "output_type": "stream",
     "text": [
      "Found 19842 images belonging to 2 classes.\n",
      "Found 2204 images belonging to 2 classes.\n",
      "Found 5512 images belonging to 2 classes.\n"
     ]
    }
   ],
   "source": [
    "# initialize the training generator\n",
    "batch_size = 20\n",
    "\n",
    "trainGen = trainAug.flow_from_directory(\n",
    "    config.TRAIN_PATH,\n",
    "    class_mode=\"sparse\",\n",
    "    target_size=(150, 150),\n",
    "    batch_size=batch_size)\n",
    "# initialize the validation generator\n",
    "valGen = valAug.flow_from_directory(\n",
    "    config.VAL_PATH,\n",
    "    class_mode=\"sparse\",\n",
    "    target_size=(150, 150),\n",
    "    batch_size=batch_size)\n",
    "# initialize the testing generator\n",
    "testGen = valAug.flow_from_directory(\n",
    "    config.TEST_PATH,\n",
    "    class_mode=\"sparse\",\n",
    "    target_size=(150, 150),\n",
    "    batch_size=batch_size)"
   ]
  },
  {
   "cell_type": "code",
   "execution_count": 10,
   "metadata": {},
   "outputs": [
    {
     "name": "stdout",
     "output_type": "stream",
     "text": [
      "WARNING:tensorflow:From /Library/Frameworks/Python.framework/Versions/3.7/lib/python3.7/site-packages/tensorflow_core/python/ops/resource_variable_ops.py:1630: calling BaseResourceVariable.__init__ (from tensorflow.python.ops.resource_variable_ops) with constraint is deprecated and will be removed in a future version.\n",
      "Instructions for updating:\n",
      "If using Keras pass *_constraint arguments to layers.\n",
      "WARNING:tensorflow:From /Library/Frameworks/Python.framework/Versions/3.7/lib/python3.7/site-packages/keras/backend/tensorflow_backend.py:4070: The name tf.nn.max_pool is deprecated. Please use tf.nn.max_pool2d instead.\n",
      "\n",
      "Model: \"vgg16\"\n",
      "_________________________________________________________________\n",
      "Layer (type)                 Output Shape              Param #   \n",
      "=================================================================\n",
      "input_1 (InputLayer)         (None, None, None, 3)     0         \n",
      "_________________________________________________________________\n",
      "block1_conv1 (Conv2D)        (None, None, None, 64)    1792      \n",
      "_________________________________________________________________\n",
      "block1_conv2 (Conv2D)        (None, None, None, 64)    36928     \n",
      "_________________________________________________________________\n",
      "block1_pool (MaxPooling2D)   (None, None, None, 64)    0         \n",
      "_________________________________________________________________\n",
      "block2_conv1 (Conv2D)        (None, None, None, 128)   73856     \n",
      "_________________________________________________________________\n",
      "block2_conv2 (Conv2D)        (None, None, None, 128)   147584    \n",
      "_________________________________________________________________\n",
      "block2_pool (MaxPooling2D)   (None, None, None, 128)   0         \n",
      "_________________________________________________________________\n",
      "block3_conv1 (Conv2D)        (None, None, None, 256)   295168    \n",
      "_________________________________________________________________\n",
      "block3_conv2 (Conv2D)        (None, None, None, 256)   590080    \n",
      "_________________________________________________________________\n",
      "block3_conv3 (Conv2D)        (None, None, None, 256)   590080    \n",
      "_________________________________________________________________\n",
      "block3_pool (MaxPooling2D)   (None, None, None, 256)   0         \n",
      "_________________________________________________________________\n",
      "block4_conv1 (Conv2D)        (None, None, None, 512)   1180160   \n",
      "_________________________________________________________________\n",
      "block4_conv2 (Conv2D)        (None, None, None, 512)   2359808   \n",
      "_________________________________________________________________\n",
      "block4_conv3 (Conv2D)        (None, None, None, 512)   2359808   \n",
      "_________________________________________________________________\n",
      "block4_pool (MaxPooling2D)   (None, None, None, 512)   0         \n",
      "_________________________________________________________________\n",
      "block5_conv1 (Conv2D)        (None, None, None, 512)   2359808   \n",
      "_________________________________________________________________\n",
      "block5_conv2 (Conv2D)        (None, None, None, 512)   2359808   \n",
      "_________________________________________________________________\n",
      "block5_conv3 (Conv2D)        (None, None, None, 512)   2359808   \n",
      "_________________________________________________________________\n",
      "block5_pool (MaxPooling2D)   (None, None, None, 512)   0         \n",
      "=================================================================\n",
      "Total params: 14,714,688\n",
      "Trainable params: 14,714,688\n",
      "Non-trainable params: 0\n",
      "_________________________________________________________________\n"
     ]
    }
   ],
   "source": [
    "conv_base = VGG16(weights = \"imagenet\", include_top = False)\n",
    "conv_base.summary()"
   ]
  },
  {
   "cell_type": "code",
   "execution_count": 11,
   "metadata": {},
   "outputs": [],
   "source": [
    "# Use the following code to extract the features and labels\n",
    "\n",
    "def extract_features(generator, sample_count):\n",
    "    features = np.zeros(shape=(sample_count, 4, 4, 512))\n",
    "    labels = np.zeros(shape=(sample_count))\n",
    "    i = 0\n",
    "    for inputs_batch, labels_batch in generator:\n",
    "        features_batch = conv_base.predict(inputs_batch)\n",
    "        features[i * batch_size : (i + 1) * batch_size] = features_batch\n",
    "        labels[i * batch_size : (i + 1) * batch_size] = labels_batch\n",
    "        i += 1\n",
    "        if ((i * batch_size % 1000) == 0 ):\n",
    "            print(\"processed size =\", i * batch_size)\n",
    "        if i * batch_size >= sample_count:\n",
    "            break\n",
    "    return features, labels"
   ]
  },
  {
   "cell_type": "code",
   "execution_count": 12,
   "metadata": {},
   "outputs": [
    {
     "name": "stdout",
     "output_type": "stream",
     "text": [
      "WARNING:tensorflow:From /Library/Frameworks/Python.framework/Versions/3.7/lib/python3.7/site-packages/keras/backend/tensorflow_backend.py:422: The name tf.global_variables is deprecated. Please use tf.compat.v1.global_variables instead.\n",
      "\n",
      "processed size = 1000\n",
      "processed size = 2000\n",
      "processed size = 3000\n",
      "processed size = 4000\n",
      "processed size = 5000\n",
      "processed size = 6000\n",
      "processed size = 7000\n",
      "processed size = 8000\n",
      "processed size = 9000\n",
      "processed size = 10000\n",
      "processed size = 11000\n",
      "processed size = 12000\n",
      "processed size = 13000\n",
      "processed size = 14000\n",
      "processed size = 15000\n",
      "processed size = 16000\n",
      "processed size = 17000\n",
      "processed size = 18000\n",
      "processed size = 19000\n",
      "processed size = 1000\n",
      "processed size = 2000\n",
      "processed size = 1000\n",
      "processed size = 2000\n",
      "processed size = 3000\n",
      "processed size = 4000\n",
      "processed size = 5000\n"
     ]
    }
   ],
   "source": [
    "train_features, train_labels = extract_features(trainGen, totalTrain)\n",
    "validation_features, validation_labels = extract_features(valGen, totalVal)\n",
    "test_features, test_labels = extract_features(testGen, totalTest)\n",
    "train_features = np.reshape(train_features, (totalTrain, 4 * 4 * 512))\n",
    "validation_features = np.reshape(validation_features, (totalVal, 4 * 4 * 512))\n",
    "test_features = np.reshape(test_features, (totalTest, 4 * 4 * 512))"
   ]
  },
  {
   "cell_type": "code",
   "execution_count": 13,
   "metadata": {},
   "outputs": [],
   "source": [
    "np.save('train_features', train_features)\n",
    "np.save('val_features', validation_features)\n",
    "np.save('test_features', test_features)"
   ]
  },
  {
   "cell_type": "code",
   "execution_count": 14,
   "metadata": {},
   "outputs": [],
   "source": [
    "train_features = np.load('train_features.npy')\n",
    "val_features = np.load('val_features.npy')\n",
    "test_features = np.load('test_features.npy')"
   ]
  },
  {
   "cell_type": "code",
   "execution_count": 26,
   "metadata": {},
   "outputs": [
    {
     "name": "stdout",
     "output_type": "stream",
     "text": [
      "Train on 19842 samples, validate on 2204 samples\n",
      "Epoch 1/10\n",
      "19842/19842 [==============================] - 40s 2ms/step - loss: 0.4598 - accuracy: 0.7781 - val_loss: 0.2995 - val_accuracy: 0.8684\n",
      "Epoch 2/10\n",
      "19842/19842 [==============================] - 38s 2ms/step - loss: 0.3682 - accuracy: 0.8433 - val_loss: 0.3025 - val_accuracy: 0.8648\n",
      "Epoch 3/10\n",
      "19842/19842 [==============================] - 37s 2ms/step - loss: 0.3483 - accuracy: 0.8565 - val_loss: 0.2636 - val_accuracy: 0.8884\n",
      "Epoch 4/10\n",
      "19842/19842 [==============================] - 36s 2ms/step - loss: 0.3410 - accuracy: 0.8622 - val_loss: 0.2512 - val_accuracy: 0.9120\n",
      "Epoch 5/10\n",
      "19842/19842 [==============================] - 36s 2ms/step - loss: 0.3356 - accuracy: 0.8661 - val_loss: 0.2411 - val_accuracy: 0.9083\n",
      "Epoch 6/10\n",
      "19842/19842 [==============================] - 37s 2ms/step - loss: 0.3282 - accuracy: 0.8720 - val_loss: 0.3103 - val_accuracy: 0.8684\n",
      "Epoch 7/10\n",
      "19842/19842 [==============================] - 37s 2ms/step - loss: 0.3258 - accuracy: 0.8725 - val_loss: 0.2483 - val_accuracy: 0.9011\n",
      "Epoch 8/10\n",
      "19842/19842 [==============================] - 36s 2ms/step - loss: 0.3200 - accuracy: 0.8749 - val_loss: 0.2570 - val_accuracy: 0.8952\n",
      "Epoch 9/10\n",
      "19842/19842 [==============================] - 84s 4ms/step - loss: 0.3143 - accuracy: 0.8792 - val_loss: 0.2569 - val_accuracy: 0.9002\n",
      "Epoch 10/10\n",
      "19842/19842 [==============================] - 37s 2ms/step - loss: 0.3120 - accuracy: 0.8824 - val_loss: 0.2493 - val_accuracy: 0.9097\n"
     ]
    }
   ],
   "source": [
    "model = Sequential()\n",
    "model.add(layers.Dense(256, activation='relu', input_dim=4 * 4 * 512))\n",
    "model.add(layers.Dense(256, activation='relu'))\n",
    "model.add(layers.Dropout(0.5))\n",
    "model.add(layers.Dense(2, activation='softmax'))\n",
    "\n",
    "model.compile(optimizer=optimizers.RMSprop(lr=2e-5),\n",
    "              loss='sparse_categorical_crossentropy',\n",
    "              metrics=['accuracy'])\n",
    "\n",
    "history = model.fit(train_features, train_labels,\n",
    "                    epochs=10,\n",
    "                    batch_size=5,\n",
    "                    validation_data=(validation_features, validation_labels))"
   ]
  },
  {
   "cell_type": "code",
   "execution_count": 27,
   "metadata": {},
   "outputs": [
    {
     "name": "stdout",
     "output_type": "stream",
     "text": [
      "5512/5512 [==============================] - 0s 89us/step\n",
      "Accuracy:  0.920536994934082\n"
     ]
    }
   ],
   "source": [
    "accuracy = model.evaluate(test_features, test_labels, batch_size=batch_size)\n",
    "print(\"Accuracy: \", accuracy[1])"
   ]
  },
  {
   "cell_type": "code",
   "execution_count": 28,
   "metadata": {},
   "outputs": [
    {
     "data": {
      "image/png": "[encoded data removed]",
      "text/plain": [
       "<Figure size 432x288 with 1 Axes>"
      ]
     },
     "metadata": {
      "needs_background": "light"
     },
     "output_type": "display_data"
    }
   ],
   "source": [
    "# Create the plot of the validation loss to compare different models\n",
    "plt.plot(history.history['val_loss'], 'r')\n",
    "plt.xlabel('Epochs')\n",
    "plt.ylabel('Validation score')\n",
    "plt.show()"
   ]
  },
  {
   "cell_type": "code",
   "execution_count": 39,
   "metadata": {},
   "outputs": [
    {
     "name": "stdout",
     "output_type": "stream",
     "text": [
      "Train on 19842 samples, validate on 2204 samples\n",
      "Epoch 1/10\n",
      "19842/19842 [==============================] - 61s 3ms/step - loss: 0.5281 - accuracy: 0.7285 - val_loss: 0.3460 - val_accuracy: 0.8426\n",
      "Epoch 2/10\n",
      "19842/19842 [==============================] - 59s 3ms/step - loss: 0.4043 - accuracy: 0.8182 - val_loss: 0.3156 - val_accuracy: 0.8489\n",
      "Epoch 3/10\n",
      "19842/19842 [==============================] - 60s 3ms/step - loss: 0.3708 - accuracy: 0.8382 - val_loss: 0.2912 - val_accuracy: 0.8721\n",
      "Epoch 4/10\n",
      "19842/19842 [==============================] - 67s 3ms/step - loss: 0.3487 - accuracy: 0.8512 - val_loss: 0.2740 - val_accuracy: 0.8793\n",
      "Epoch 5/10\n",
      "19842/19842 [==============================] - 63s 3ms/step - loss: 0.3362 - accuracy: 0.8560 - val_loss: 0.2495 - val_accuracy: 0.9111\n",
      "Epoch 6/10\n",
      "19842/19842 [==============================] - 68s 3ms/step - loss: 0.3222 - accuracy: 0.8669 - val_loss: 0.2569 - val_accuracy: 0.8884\n",
      "Epoch 7/10\n",
      "19842/19842 [==============================] - 74s 4ms/step - loss: 0.3143 - accuracy: 0.8686 - val_loss: 0.2355 - val_accuracy: 0.9115\n",
      "Epoch 8/10\n",
      "19842/19842 [==============================] - 77s 4ms/step - loss: 0.3044 - accuracy: 0.8748 - val_loss: 0.2417 - val_accuracy: 0.8997\n",
      "Epoch 9/10\n",
      "19842/19842 [==============================] - 76s 4ms/step - loss: 0.2996 - accuracy: 0.8775 - val_loss: 0.2616 - val_accuracy: 0.8893\n",
      "Epoch 10/10\n",
      "19842/19842 [==============================] - 77s 4ms/step - loss: 0.2927 - accuracy: 0.8807 - val_loss: 0.2902 - val_accuracy: 0.8770\n"
     ]
    }
   ],
   "source": [
    "model = Sequential()\n",
    "model.add(layers.Dense(512, activation='relu', input_dim=4 * 4 * 512))\n",
    "model.add(layers.Dropout(0.3))\n",
    "model.add(layers.Dense(512, activation='relu'))\n",
    "model.add(layers.Dropout(0.5))\n",
    "model.add(layers.Dense(2, activation='softmax'))\n",
    "\n",
    "model.compile(optimizer=optimizers.RMSprop(lr=2e-5),\n",
    "              loss='sparse_categorical_crossentropy',\n",
    "              metrics=['accuracy'])\n",
    "\n",
    "history = model.fit(train_features, train_labels,\n",
    "                    epochs=10,\n",
    "                    batch_size=20,\n",
    "                    validation_data=(validation_features, validation_labels))"
   ]
  },
  {
   "cell_type": "code",
   "execution_count": 40,
   "metadata": {},
   "outputs": [
    {
     "name": "stdout",
     "output_type": "stream",
     "text": [
      "5512/5512 [==============================] - 2s 282us/step\n",
      "Accuracy:  0.9167271256446838\n"
     ]
    }
   ],
   "source": [
    "model.adaccuracy = model.evaluate(test_features, test_labels, batch_size=batch_size)\n",
    "print(\"Accuracy: \", accuracy[1])"
   ]
  },
  {
   "cell_type": "code",
   "execution_count": 41,
   "metadata": {},
   "outputs": [
    {
     "data": {
      "image/png": "[encoded data removed]",
      "text/plain": [
       "<Figure size 432x288 with 1 Axes>"
      ]
     },
     "metadata": {
      "needs_background": "light"
     },
     "output_type": "display_data"
    }
   ],
   "source": [
    "# Create the plot of the validation loss to compare different models\n",
    "plt.plot(history.history['val_loss'], 'r')\n",
    "plt.xlabel('Epochs')\n",
    "plt.ylabel('Validation score')\n",
    "plt.show()"
   ]
  },
  {
   "cell_type": "code",
   "execution_count": 35,
   "metadata": {},
   "outputs": [
    {
     "name": "stdout",
     "output_type": "stream",
     "text": [
      "Train on 19842 samples, validate on 2204 samples\n",
      "Epoch 1/10\n",
      "19842/19842 [==============================] - 6s 323us/step - loss: 0.5196 - accuracy: 0.7429 - val_loss: 0.3414 - val_accuracy: 0.8507\n",
      "Epoch 2/10\n",
      "19842/19842 [==============================] - 7s 355us/step - loss: 0.3849 - accuracy: 0.8327 - val_loss: 0.2900 - val_accuracy: 0.8911\n",
      "Epoch 3/10\n",
      "19842/19842 [==============================] - 6s 303us/step - loss: 0.3512 - accuracy: 0.8529 - val_loss: 0.4153 - val_accuracy: 0.8203\n",
      "Epoch 4/10\n",
      "19842/19842 [==============================] - 7s 337us/step - loss: 0.3298 - accuracy: 0.8629 - val_loss: 0.2495 - val_accuracy: 0.9038\n",
      "Epoch 5/10\n",
      "19842/19842 [==============================] - 7s 330us/step - loss: 0.3150 - accuracy: 0.8703 - val_loss: 0.3994 - val_accuracy: 0.8330\n",
      "Epoch 6/10\n",
      "19842/19842 [==============================] - 6s 303us/step - loss: 0.3044 - accuracy: 0.8759 - val_loss: 0.2406 - val_accuracy: 0.9056\n",
      "Epoch 7/10\n",
      "19842/19842 [==============================] - 5s 255us/step - loss: 0.2972 - accuracy: 0.8803 - val_loss: 0.2664 - val_accuracy: 0.8897\n",
      "Epoch 8/10\n",
      "19842/19842 [==============================] - 5s 257us/step - loss: 0.2891 - accuracy: 0.8817 - val_loss: 0.2478 - val_accuracy: 0.9106\n",
      "Epoch 9/10\n",
      "19842/19842 [==============================] - 6s 282us/step - loss: 0.2801 - accuracy: 0.8873 - val_loss: 0.2781 - val_accuracy: 0.8820\n",
      "Epoch 10/10\n",
      "19842/19842 [==============================] - 6s 325us/step - loss: 0.2726 - accuracy: 0.8901 - val_loss: 0.2420 - val_accuracy: 0.9061\n"
     ]
    }
   ],
   "source": [
    "model = Sequential()\n",
    "model.add(layers.Dense(128, activation='relu', input_dim=4 * 4 * 512))\n",
    "model.add(layers.Dense(128, activation='relu'))\n",
    "model.add(layers.Dense(128, activation='relu'))\n",
    "model.add(layers.Dense(128, activation='relu'))\n",
    "model.add(layers.Dropout(0.5))\n",
    "model.add(layers.Dense(2, activation='softmax'))\n",
    "\n",
    "model.compile(optimizer=optimizers.RMSprop(lr=2e-5),\n",
    "              loss='sparse_categorical_crossentropy',\n",
    "              metrics=['accuracy'])\n",
    "\n",
    "history = model.fit(train_features, train_labels,\n",
    "                    epochs=10,\n",
    "                    batch_size=20,\n",
    "                    validation_data=(validation_features, validation_labels))"
   ]
  },
  {
   "cell_type": "code",
   "execution_count": 36,
   "metadata": {},
   "outputs": [
    {
     "name": "stdout",
     "output_type": "stream",
     "text": [
      "5512/5512 [==============================] - 0s 88us/step\n",
      "Accuracy:  0.9167271256446838\n"
     ]
    }
   ],
   "source": [
    "accuracy = model.evaluate(test_features, test_labels, batch_size=batch_size)\n",
    "print(\"Accuracy: \", accuracy[1])"
   ]
  },
  {
   "cell_type": "code",
   "execution_count": 37,
   "metadata": {},
   "outputs": [
    {
     "data": {
      "image/png": "[encoded data removed]",
      "text/plain": [
       "<Figure size 432x288 with 1 Axes>"
      ]
     },
     "metadata": {
      "needs_background": "light"
     },
     "output_type": "display_data"
    }
   ],
   "source": [
    "# Create the plot of the validation loss to compare different models\n",
    "plt.plot(history.history['val_loss'], 'r')\n",
    "plt.xlabel('Epochs')\n",
    "plt.ylabel('Validation score')\n",
    "plt.show()"
   ]
  },
  {
   "cell_type": "code",
   "execution_count": null,
   "metadata": {},
   "outputs": [],
   "source": []
  }
 ],
 "metadata": {
  "kernelspec": {
   "display_name": "Python 3",
   "language": "python",
   "name": "python3"
  },
  "language_info": {
   "codemirror_mode": {
    "name": "ipython",
    "version": 3
   },
   "file_extension": ".py",
   "mimetype": "text/x-python",
   "name": "python",
   "nbconvert_exporter": "python",
   "pygments_lexer": "ipython3",
   "version": "3.7.4"
  }
 },
 "nbformat": 4,
 "nbformat_minor": 2
}
