{
 "cells": [
  {
   "cell_type": "markdown",
   "metadata": {},
   "source": [
    "# Survival Analysis"
   ]
  },
  {
   "cell_type": "code",
   "execution_count": 1,
   "metadata": {},
   "outputs": [],
   "source": [
    "# Load the packages\n",
    "import datetime\n",
    "import itertools\n",
    "import numpy as np\n",
    "import pandas as pd\n",
    "from scipy import stats\n",
    "import matplotlib.pyplot as plt\n",
    "import matplotlib.gridspec as gridspec\n",
    "import seaborn as sns\n",
    "\n",
    "import sksurv\n",
    "from lifelines import CoxPHFitter\n",
    "from lifelines.plotting import plot_lifetimes \n",
    "from lifelines import KaplanMeierFitter\n",
    "\n",
    "%matplotlib inline\n",
    "import warnings\n",
    "warnings.filterwarnings('ignore')"
   ]
  },
  {
   "cell_type": "code",
   "execution_count": 2,
   "metadata": {},
   "outputs": [
    {
     "data": {
      "text/html": [
       "<div>\n",
       "<style scoped>\n",
       "    .dataframe tbody tr th:only-of-type {\n",
       "        vertical-align: middle;\n",
       "    }\n",
       "\n",
       "    .dataframe tbody tr th {\n",
       "        vertical-align: top;\n",
       "    }\n",
       "\n",
       "    .dataframe thead th {\n",
       "        text-align: right;\n",
       "    }\n",
       "</style>\n",
       "<table border=\"1\" class=\"dataframe\">\n",
       "  <thead>\n",
       "    <tr style=\"text-align: right;\">\n",
       "      <th></th>\n",
       "      <th>BIRTH_DATE_off</th>\n",
       "      <th>DEATH_DATE_off</th>\n",
       "      <th>sex</th>\n",
       "      <th>race</th>\n",
       "      <th>LUNG</th>\n",
       "      <th>PANCREAS</th>\n",
       "      <th>THYROID</th>\n",
       "      <th>COLORECTAL</th>\n",
       "      <th>MELANOMA</th>\n",
       "      <th>LUNG DT</th>\n",
       "      <th>PANCREAS_DT</th>\n",
       "      <th>THYROID_DT</th>\n",
       "      <th>COLORECTAL_DT</th>\n",
       "      <th>MELANOMA_DT</th>\n",
       "    </tr>\n",
       "  </thead>\n",
       "  <tbody>\n",
       "    <tr>\n",
       "      <td>0</td>\n",
       "      <td>1959-12-02</td>\n",
       "      <td>NaT</td>\n",
       "      <td>Male</td>\n",
       "      <td>Black/African-American</td>\n",
       "      <td>1</td>\n",
       "      <td>0</td>\n",
       "      <td>0</td>\n",
       "      <td>0</td>\n",
       "      <td>0</td>\n",
       "      <td>2013-09-01</td>\n",
       "      <td>NaT</td>\n",
       "      <td>NaT</td>\n",
       "      <td>NaT</td>\n",
       "      <td>NaT</td>\n",
       "    </tr>\n",
       "    <tr>\n",
       "      <td>1</td>\n",
       "      <td>1955-11-18</td>\n",
       "      <td>2016-04-20</td>\n",
       "      <td>Male</td>\n",
       "      <td>Black/African-American</td>\n",
       "      <td>1</td>\n",
       "      <td>0</td>\n",
       "      <td>0</td>\n",
       "      <td>0</td>\n",
       "      <td>0</td>\n",
       "      <td>2016-04-02</td>\n",
       "      <td>NaT</td>\n",
       "      <td>NaT</td>\n",
       "      <td>NaT</td>\n",
       "      <td>NaT</td>\n",
       "    </tr>\n",
       "    <tr>\n",
       "      <td>2</td>\n",
       "      <td>1946-01-14</td>\n",
       "      <td>2015-05-25</td>\n",
       "      <td>Female</td>\n",
       "      <td>Black/African-American</td>\n",
       "      <td>1</td>\n",
       "      <td>0</td>\n",
       "      <td>0</td>\n",
       "      <td>0</td>\n",
       "      <td>0</td>\n",
       "      <td>2015-04-11</td>\n",
       "      <td>NaT</td>\n",
       "      <td>NaT</td>\n",
       "      <td>NaT</td>\n",
       "      <td>NaT</td>\n",
       "    </tr>\n",
       "    <tr>\n",
       "      <td>3</td>\n",
       "      <td>1932-07-28</td>\n",
       "      <td>NaT</td>\n",
       "      <td>Female</td>\n",
       "      <td>Black/African-American</td>\n",
       "      <td>0</td>\n",
       "      <td>0</td>\n",
       "      <td>0</td>\n",
       "      <td>0</td>\n",
       "      <td>0</td>\n",
       "      <td>NaT</td>\n",
       "      <td>NaT</td>\n",
       "      <td>NaT</td>\n",
       "      <td>NaT</td>\n",
       "      <td>NaT</td>\n",
       "    </tr>\n",
       "    <tr>\n",
       "      <td>4</td>\n",
       "      <td>1943-04-17</td>\n",
       "      <td>NaT</td>\n",
       "      <td>Male</td>\n",
       "      <td>White</td>\n",
       "      <td>0</td>\n",
       "      <td>0</td>\n",
       "      <td>0</td>\n",
       "      <td>0</td>\n",
       "      <td>0</td>\n",
       "      <td>NaT</td>\n",
       "      <td>NaT</td>\n",
       "      <td>NaT</td>\n",
       "      <td>NaT</td>\n",
       "      <td>NaT</td>\n",
       "    </tr>\n",
       "  </tbody>\n",
       "</table>\n",
       "</div>"
      ],
      "text/plain": [
       "  BIRTH_DATE_off DEATH_DATE_off     sex                    race  LUNG  \\\n",
       "0     1959-12-02            NaT    Male  Black/African-American     1   \n",
       "1     1955-11-18     2016-04-20    Male  Black/African-American     1   \n",
       "2     1946-01-14     2015-05-25  Female  Black/African-American     1   \n",
       "3     1932-07-28            NaT  Female  Black/African-American     0   \n",
       "4     1943-04-17            NaT    Male                   White     0   \n",
       "\n",
       "   PANCREAS  THYROID  COLORECTAL  MELANOMA    LUNG DT PANCREAS_DT THYROID_DT  \\\n",
       "0         0        0           0         0 2013-09-01         NaT        NaT   \n",
       "1         0        0           0         0 2016-04-02         NaT        NaT   \n",
       "2         0        0           0         0 2015-04-11         NaT        NaT   \n",
       "3         0        0           0         0        NaT         NaT        NaT   \n",
       "4         0        0           0         0        NaT         NaT        NaT   \n",
       "\n",
       "  COLORECTAL_DT MELANOMA_DT  \n",
       "0           NaT         NaT  \n",
       "1           NaT         NaT  \n",
       "2           NaT         NaT  \n",
       "3           NaT         NaT  \n",
       "4           NaT         NaT  "
      ]
     },
     "execution_count": 2,
     "metadata": {},
     "output_type": "execute_result"
    }
   ],
   "source": [
    "# load the data\n",
    "df = pd.read_excel('Cancer patient data.xlsx')\n",
    "df.head()"
   ]
  },
  {
   "cell_type": "code",
   "execution_count": 3,
   "metadata": {},
   "outputs": [
    {
     "data": {
      "text/plain": [
       "(8468, 14)"
      ]
     },
     "execution_count": 3,
     "metadata": {},
     "output_type": "execute_result"
    }
   ],
   "source": [
    "df.shape"
   ]
  },
  {
   "cell_type": "code",
   "execution_count": 4,
   "metadata": {},
   "outputs": [
    {
     "data": {
      "text/plain": [
       "Index(['BIRTH_DATE_off', 'DEATH_DATE_off', 'sex', 'race', 'LUNG', 'PANCREAS',\n",
       "       'THYROID', 'COLORECTAL', 'MELANOMA', 'LUNG DT', 'PANCREAS_DT',\n",
       "       'THYROID_DT', 'COLORECTAL_DT', 'MELANOMA_DT'],\n",
       "      dtype='object')"
      ]
     },
     "execution_count": 4,
     "metadata": {},
     "output_type": "execute_result"
    }
   ],
   "source": [
    "df.columns"
   ]
  },
  {
   "cell_type": "code",
   "execution_count": 5,
   "metadata": {},
   "outputs": [
    {
     "name": "stdout",
     "output_type": "stream",
     "text": [
      "<class 'pandas.core.frame.DataFrame'>\n",
      "RangeIndex: 8468 entries, 0 to 8467\n",
      "Data columns (total 14 columns):\n",
      "BIRTH_DATE_off    8468 non-null datetime64[ns]\n",
      "DEATH_DATE_off    447 non-null datetime64[ns]\n",
      "sex               8468 non-null object\n",
      "race              8466 non-null object\n",
      "LUNG              8468 non-null int64\n",
      "PANCREAS          8468 non-null int64\n",
      "THYROID           8468 non-null int64\n",
      "COLORECTAL        8468 non-null int64\n",
      "MELANOMA          8468 non-null int64\n",
      "LUNG DT           1485 non-null datetime64[ns]\n",
      "PANCREAS_DT       660 non-null datetime64[ns]\n",
      "THYROID_DT        745 non-null datetime64[ns]\n",
      "COLORECTAL_DT     946 non-null datetime64[ns]\n",
      "MELANOMA_DT       346 non-null datetime64[ns]\n",
      "dtypes: datetime64[ns](7), int64(5), object(2)\n",
      "memory usage: 926.3+ KB\n"
     ]
    }
   ],
   "source": [
    "df.info()"
   ]
  },
  {
   "cell_type": "code",
   "execution_count": 6,
   "metadata": {},
   "outputs": [
    {
     "data": {
      "text/html": [
       "<div>\n",
       "<style scoped>\n",
       "    .dataframe tbody tr th:only-of-type {\n",
       "        vertical-align: middle;\n",
       "    }\n",
       "\n",
       "    .dataframe tbody tr th {\n",
       "        vertical-align: top;\n",
       "    }\n",
       "\n",
       "    .dataframe thead th {\n",
       "        text-align: right;\n",
       "    }\n",
       "</style>\n",
       "<table border=\"1\" class=\"dataframe\">\n",
       "  <thead>\n",
       "    <tr style=\"text-align: right;\">\n",
       "      <th></th>\n",
       "      <th>BIRTH_DATE_off</th>\n",
       "      <th>DEATH_DATE_off</th>\n",
       "      <th>sex</th>\n",
       "      <th>race</th>\n",
       "      <th>LUNG</th>\n",
       "      <th>PANCREAS</th>\n",
       "      <th>THYROID</th>\n",
       "      <th>COLORECTAL</th>\n",
       "      <th>MELANOMA</th>\n",
       "      <th>LUNG DT</th>\n",
       "      <th>PANCREAS_DT</th>\n",
       "      <th>THYROID_DT</th>\n",
       "      <th>COLORECTAL_DT</th>\n",
       "      <th>MELANOMA_DT</th>\n",
       "    </tr>\n",
       "  </thead>\n",
       "  <tbody>\n",
       "    <tr>\n",
       "      <td>count</td>\n",
       "      <td>8468</td>\n",
       "      <td>447</td>\n",
       "      <td>8468</td>\n",
       "      <td>8466</td>\n",
       "      <td>8468.000000</td>\n",
       "      <td>8468.000000</td>\n",
       "      <td>8468.000000</td>\n",
       "      <td>8468.000000</td>\n",
       "      <td>8468.000000</td>\n",
       "      <td>1485</td>\n",
       "      <td>660</td>\n",
       "      <td>745</td>\n",
       "      <td>946</td>\n",
       "      <td>346</td>\n",
       "    </tr>\n",
       "    <tr>\n",
       "      <td>unique</td>\n",
       "      <td>6667</td>\n",
       "      <td>399</td>\n",
       "      <td>2</td>\n",
       "      <td>8</td>\n",
       "      <td>NaN</td>\n",
       "      <td>NaN</td>\n",
       "      <td>NaN</td>\n",
       "      <td>NaN</td>\n",
       "      <td>NaN</td>\n",
       "      <td>1025</td>\n",
       "      <td>536</td>\n",
       "      <td>609</td>\n",
       "      <td>751</td>\n",
       "      <td>316</td>\n",
       "    </tr>\n",
       "    <tr>\n",
       "      <td>top</td>\n",
       "      <td>1947-08-02 00:00:00</td>\n",
       "      <td>2015-12-03 00:00:00</td>\n",
       "      <td>Female</td>\n",
       "      <td>White</td>\n",
       "      <td>NaN</td>\n",
       "      <td>NaN</td>\n",
       "      <td>NaN</td>\n",
       "      <td>NaN</td>\n",
       "      <td>NaN</td>\n",
       "      <td>2013-03-07 00:00:00</td>\n",
       "      <td>2016-02-09 00:00:00</td>\n",
       "      <td>2014-05-27 00:00:00</td>\n",
       "      <td>2013-05-22 00:00:00</td>\n",
       "      <td>2016-01-06 00:00:00</td>\n",
       "    </tr>\n",
       "    <tr>\n",
       "      <td>freq</td>\n",
       "      <td>6</td>\n",
       "      <td>4</td>\n",
       "      <td>4290</td>\n",
       "      <td>5725</td>\n",
       "      <td>NaN</td>\n",
       "      <td>NaN</td>\n",
       "      <td>NaN</td>\n",
       "      <td>NaN</td>\n",
       "      <td>NaN</td>\n",
       "      <td>6</td>\n",
       "      <td>4</td>\n",
       "      <td>5</td>\n",
       "      <td>5</td>\n",
       "      <td>3</td>\n",
       "    </tr>\n",
       "    <tr>\n",
       "      <td>first</td>\n",
       "      <td>1911-06-27 00:00:00</td>\n",
       "      <td>2009-05-02 00:00:00</td>\n",
       "      <td>NaN</td>\n",
       "      <td>NaN</td>\n",
       "      <td>NaN</td>\n",
       "      <td>NaN</td>\n",
       "      <td>NaN</td>\n",
       "      <td>NaN</td>\n",
       "      <td>NaN</td>\n",
       "      <td>1999-12-16 00:00:00</td>\n",
       "      <td>2008-09-26 00:00:00</td>\n",
       "      <td>1960-01-27 00:00:00</td>\n",
       "      <td>1999-12-05 00:00:00</td>\n",
       "      <td>1986-06-02 00:00:00</td>\n",
       "    </tr>\n",
       "    <tr>\n",
       "      <td>last</td>\n",
       "      <td>2014-12-21 00:00:00</td>\n",
       "      <td>2017-06-09 00:00:00</td>\n",
       "      <td>NaN</td>\n",
       "      <td>NaN</td>\n",
       "      <td>NaN</td>\n",
       "      <td>NaN</td>\n",
       "      <td>NaN</td>\n",
       "      <td>NaN</td>\n",
       "      <td>NaN</td>\n",
       "      <td>2016-09-05 00:00:00</td>\n",
       "      <td>2016-09-04 00:00:00</td>\n",
       "      <td>2016-09-26 00:00:00</td>\n",
       "      <td>2016-07-23 00:00:00</td>\n",
       "      <td>2016-07-27 00:00:00</td>\n",
       "    </tr>\n",
       "    <tr>\n",
       "      <td>mean</td>\n",
       "      <td>NaN</td>\n",
       "      <td>NaN</td>\n",
       "      <td>NaN</td>\n",
       "      <td>NaN</td>\n",
       "      <td>0.175366</td>\n",
       "      <td>0.077940</td>\n",
       "      <td>0.087978</td>\n",
       "      <td>0.111951</td>\n",
       "      <td>0.041096</td>\n",
       "      <td>NaN</td>\n",
       "      <td>NaN</td>\n",
       "      <td>NaN</td>\n",
       "      <td>NaN</td>\n",
       "      <td>NaN</td>\n",
       "    </tr>\n",
       "    <tr>\n",
       "      <td>std</td>\n",
       "      <td>NaN</td>\n",
       "      <td>NaN</td>\n",
       "      <td>NaN</td>\n",
       "      <td>NaN</td>\n",
       "      <td>0.380302</td>\n",
       "      <td>0.268094</td>\n",
       "      <td>0.283280</td>\n",
       "      <td>0.315325</td>\n",
       "      <td>0.198524</td>\n",
       "      <td>NaN</td>\n",
       "      <td>NaN</td>\n",
       "      <td>NaN</td>\n",
       "      <td>NaN</td>\n",
       "      <td>NaN</td>\n",
       "    </tr>\n",
       "    <tr>\n",
       "      <td>min</td>\n",
       "      <td>NaN</td>\n",
       "      <td>NaN</td>\n",
       "      <td>NaN</td>\n",
       "      <td>NaN</td>\n",
       "      <td>0.000000</td>\n",
       "      <td>0.000000</td>\n",
       "      <td>0.000000</td>\n",
       "      <td>0.000000</td>\n",
       "      <td>0.000000</td>\n",
       "      <td>NaN</td>\n",
       "      <td>NaN</td>\n",
       "      <td>NaN</td>\n",
       "      <td>NaN</td>\n",
       "      <td>NaN</td>\n",
       "    </tr>\n",
       "    <tr>\n",
       "      <td>25%</td>\n",
       "      <td>NaN</td>\n",
       "      <td>NaN</td>\n",
       "      <td>NaN</td>\n",
       "      <td>NaN</td>\n",
       "      <td>0.000000</td>\n",
       "      <td>0.000000</td>\n",
       "      <td>0.000000</td>\n",
       "      <td>0.000000</td>\n",
       "      <td>0.000000</td>\n",
       "      <td>NaN</td>\n",
       "      <td>NaN</td>\n",
       "      <td>NaN</td>\n",
       "      <td>NaN</td>\n",
       "      <td>NaN</td>\n",
       "    </tr>\n",
       "    <tr>\n",
       "      <td>50%</td>\n",
       "      <td>NaN</td>\n",
       "      <td>NaN</td>\n",
       "      <td>NaN</td>\n",
       "      <td>NaN</td>\n",
       "      <td>0.000000</td>\n",
       "      <td>0.000000</td>\n",
       "      <td>0.000000</td>\n",
       "      <td>0.000000</td>\n",
       "      <td>0.000000</td>\n",
       "      <td>NaN</td>\n",
       "      <td>NaN</td>\n",
       "      <td>NaN</td>\n",
       "      <td>NaN</td>\n",
       "      <td>NaN</td>\n",
       "    </tr>\n",
       "    <tr>\n",
       "      <td>75%</td>\n",
       "      <td>NaN</td>\n",
       "      <td>NaN</td>\n",
       "      <td>NaN</td>\n",
       "      <td>NaN</td>\n",
       "      <td>0.000000</td>\n",
       "      <td>0.000000</td>\n",
       "      <td>0.000000</td>\n",
       "      <td>0.000000</td>\n",
       "      <td>0.000000</td>\n",
       "      <td>NaN</td>\n",
       "      <td>NaN</td>\n",
       "      <td>NaN</td>\n",
       "      <td>NaN</td>\n",
       "      <td>NaN</td>\n",
       "    </tr>\n",
       "    <tr>\n",
       "      <td>max</td>\n",
       "      <td>NaN</td>\n",
       "      <td>NaN</td>\n",
       "      <td>NaN</td>\n",
       "      <td>NaN</td>\n",
       "      <td>1.000000</td>\n",
       "      <td>1.000000</td>\n",
       "      <td>1.000000</td>\n",
       "      <td>1.000000</td>\n",
       "      <td>1.000000</td>\n",
       "      <td>NaN</td>\n",
       "      <td>NaN</td>\n",
       "      <td>NaN</td>\n",
       "      <td>NaN</td>\n",
       "      <td>NaN</td>\n",
       "    </tr>\n",
       "  </tbody>\n",
       "</table>\n",
       "</div>"
      ],
      "text/plain": [
       "             BIRTH_DATE_off       DEATH_DATE_off     sex   race         LUNG  \\\n",
       "count                  8468                  447    8468   8466  8468.000000   \n",
       "unique                 6667                  399       2      8          NaN   \n",
       "top     1947-08-02 00:00:00  2015-12-03 00:00:00  Female  White          NaN   \n",
       "freq                      6                    4    4290   5725          NaN   \n",
       "first   1911-06-27 00:00:00  2009-05-02 00:00:00     NaN    NaN          NaN   \n",
       "last    2014-12-21 00:00:00  2017-06-09 00:00:00     NaN    NaN          NaN   \n",
       "mean                    NaN                  NaN     NaN    NaN     0.175366   \n",
       "std                     NaN                  NaN     NaN    NaN     0.380302   \n",
       "min                     NaN                  NaN     NaN    NaN     0.000000   \n",
       "25%                     NaN                  NaN     NaN    NaN     0.000000   \n",
       "50%                     NaN                  NaN     NaN    NaN     0.000000   \n",
       "75%                     NaN                  NaN     NaN    NaN     0.000000   \n",
       "max                     NaN                  NaN     NaN    NaN     1.000000   \n",
       "\n",
       "           PANCREAS      THYROID   COLORECTAL     MELANOMA  \\\n",
       "count   8468.000000  8468.000000  8468.000000  8468.000000   \n",
       "unique          NaN          NaN          NaN          NaN   \n",
       "top             NaN          NaN          NaN          NaN   \n",
       "freq            NaN          NaN          NaN          NaN   \n",
       "first           NaN          NaN          NaN          NaN   \n",
       "last            NaN          NaN          NaN          NaN   \n",
       "mean       0.077940     0.087978     0.111951     0.041096   \n",
       "std        0.268094     0.283280     0.315325     0.198524   \n",
       "min        0.000000     0.000000     0.000000     0.000000   \n",
       "25%        0.000000     0.000000     0.000000     0.000000   \n",
       "50%        0.000000     0.000000     0.000000     0.000000   \n",
       "75%        0.000000     0.000000     0.000000     0.000000   \n",
       "max        1.000000     1.000000     1.000000     1.000000   \n",
       "\n",
       "                    LUNG DT          PANCREAS_DT           THYROID_DT  \\\n",
       "count                  1485                  660                  745   \n",
       "unique                 1025                  536                  609   \n",
       "top     2013-03-07 00:00:00  2016-02-09 00:00:00  2014-05-27 00:00:00   \n",
       "freq                      6                    4                    5   \n",
       "first   1999-12-16 00:00:00  2008-09-26 00:00:00  1960-01-27 00:00:00   \n",
       "last    2016-09-05 00:00:00  2016-09-04 00:00:00  2016-09-26 00:00:00   \n",
       "mean                    NaN                  NaN                  NaN   \n",
       "std                     NaN                  NaN                  NaN   \n",
       "min                     NaN                  NaN                  NaN   \n",
       "25%                     NaN                  NaN                  NaN   \n",
       "50%                     NaN                  NaN                  NaN   \n",
       "75%                     NaN                  NaN                  NaN   \n",
       "max                     NaN                  NaN                  NaN   \n",
       "\n",
       "              COLORECTAL_DT          MELANOMA_DT  \n",
       "count                   946                  346  \n",
       "unique                  751                  316  \n",
       "top     2013-05-22 00:00:00  2016-01-06 00:00:00  \n",
       "freq                      5                    3  \n",
       "first   1999-12-05 00:00:00  1986-06-02 00:00:00  \n",
       "last    2016-07-23 00:00:00  2016-07-27 00:00:00  \n",
       "mean                    NaN                  NaN  \n",
       "std                     NaN                  NaN  \n",
       "min                     NaN                  NaN  \n",
       "25%                     NaN                  NaN  \n",
       "50%                     NaN                  NaN  \n",
       "75%                     NaN                  NaN  \n",
       "max                     NaN                  NaN  "
      ]
     },
     "execution_count": 6,
     "metadata": {},
     "output_type": "execute_result"
    }
   ],
   "source": [
    "df.describe(include = 'all')"
   ]
  },
  {
   "cell_type": "code",
   "execution_count": 7,
   "metadata": {},
   "outputs": [
    {
     "data": {
      "text/plain": [
       "BIRTH_DATE_off       0\n",
       "DEATH_DATE_off    8021\n",
       "sex                  0\n",
       "race                 2\n",
       "LUNG                 0\n",
       "PANCREAS             0\n",
       "THYROID              0\n",
       "COLORECTAL           0\n",
       "MELANOMA             0\n",
       "LUNG DT           6983\n",
       "PANCREAS_DT       7808\n",
       "THYROID_DT        7723\n",
       "COLORECTAL_DT     7522\n",
       "MELANOMA_DT       8122\n",
       "dtype: int64"
      ]
     },
     "execution_count": 7,
     "metadata": {},
     "output_type": "execute_result"
    }
   ],
   "source": [
    "df.isna().sum()"
   ]
  },
  {
   "cell_type": "markdown",
   "metadata": {},
   "source": [
    "## Data Cleaning and Feature Engineering"
   ]
  },
  {
   "cell_type": "code",
   "execution_count": 8,
   "metadata": {},
   "outputs": [
    {
     "data": {
      "text/plain": [
       "(8463, 14)"
      ]
     },
     "execution_count": 8,
     "metadata": {},
     "output_type": "execute_result"
    }
   ],
   "source": [
    "# Remove all patients who were diagnosed after 8/25/16\n",
    "\n",
    "lung_index = list(df[df['LUNG DT'] > datetime.date(2016, 8, 25)].index)\n",
    "pancreas_index = list(df[df['PANCREAS_DT'] > datetime.date(2016, 8, 25)].index)\n",
    "thyroid_index = list(df[df['THYROID_DT'] > datetime.date(2016, 8, 25)].index)\n",
    "colorectal_index = list(df[df['COLORECTAL_DT'] > datetime.date(2016, 8, 25)].index)\n",
    "melanoma_index = list(df[df['MELANOMA_DT'] > datetime.date(2016, 8, 25)].index)\n",
    "\n",
    "all_index = lung_index + pancreas_index + thyroid_index + colorectal_index + melanoma_index\n",
    "\n",
    "before_cutoff = df.drop(all_index)\n",
    "before_cutoff.shape"
   ]
  },
  {
   "cell_type": "code",
   "execution_count": 9,
   "metadata": {},
   "outputs": [
    {
     "data": {
      "text/html": [
       "<div>\n",
       "<style scoped>\n",
       "    .dataframe tbody tr th:only-of-type {\n",
       "        vertical-align: middle;\n",
       "    }\n",
       "\n",
       "    .dataframe tbody tr th {\n",
       "        vertical-align: top;\n",
       "    }\n",
       "\n",
       "    .dataframe thead th {\n",
       "        text-align: right;\n",
       "    }\n",
       "</style>\n",
       "<table border=\"1\" class=\"dataframe\">\n",
       "  <thead>\n",
       "    <tr style=\"text-align: right;\">\n",
       "      <th></th>\n",
       "      <th>BIRTH_DATE_off</th>\n",
       "      <th>DEATH_DATE_off</th>\n",
       "      <th>sex</th>\n",
       "      <th>race</th>\n",
       "      <th>LUNG</th>\n",
       "      <th>PANCREAS</th>\n",
       "      <th>THYROID</th>\n",
       "      <th>COLORECTAL</th>\n",
       "      <th>MELANOMA</th>\n",
       "      <th>LUNG DT</th>\n",
       "      <th>PANCREAS_DT</th>\n",
       "      <th>THYROID_DT</th>\n",
       "      <th>COLORECTAL_DT</th>\n",
       "      <th>MELANOMA_DT</th>\n",
       "      <th>status</th>\n",
       "    </tr>\n",
       "  </thead>\n",
       "  <tbody>\n",
       "    <tr>\n",
       "      <td>0</td>\n",
       "      <td>1959-12-02</td>\n",
       "      <td>NaT</td>\n",
       "      <td>Male</td>\n",
       "      <td>Black/African-American</td>\n",
       "      <td>1</td>\n",
       "      <td>0</td>\n",
       "      <td>0</td>\n",
       "      <td>0</td>\n",
       "      <td>0</td>\n",
       "      <td>2013-09-01</td>\n",
       "      <td>NaT</td>\n",
       "      <td>NaT</td>\n",
       "      <td>NaT</td>\n",
       "      <td>NaT</td>\n",
       "      <td>0</td>\n",
       "    </tr>\n",
       "    <tr>\n",
       "      <td>1</td>\n",
       "      <td>1955-11-18</td>\n",
       "      <td>2016-04-20</td>\n",
       "      <td>Male</td>\n",
       "      <td>Black/African-American</td>\n",
       "      <td>1</td>\n",
       "      <td>0</td>\n",
       "      <td>0</td>\n",
       "      <td>0</td>\n",
       "      <td>0</td>\n",
       "      <td>2016-04-02</td>\n",
       "      <td>NaT</td>\n",
       "      <td>NaT</td>\n",
       "      <td>NaT</td>\n",
       "      <td>NaT</td>\n",
       "      <td>1</td>\n",
       "    </tr>\n",
       "    <tr>\n",
       "      <td>2</td>\n",
       "      <td>1946-01-14</td>\n",
       "      <td>2015-05-25</td>\n",
       "      <td>Female</td>\n",
       "      <td>Black/African-American</td>\n",
       "      <td>1</td>\n",
       "      <td>0</td>\n",
       "      <td>0</td>\n",
       "      <td>0</td>\n",
       "      <td>0</td>\n",
       "      <td>2015-04-11</td>\n",
       "      <td>NaT</td>\n",
       "      <td>NaT</td>\n",
       "      <td>NaT</td>\n",
       "      <td>NaT</td>\n",
       "      <td>1</td>\n",
       "    </tr>\n",
       "    <tr>\n",
       "      <td>3</td>\n",
       "      <td>1932-07-28</td>\n",
       "      <td>NaT</td>\n",
       "      <td>Female</td>\n",
       "      <td>Black/African-American</td>\n",
       "      <td>0</td>\n",
       "      <td>0</td>\n",
       "      <td>0</td>\n",
       "      <td>0</td>\n",
       "      <td>0</td>\n",
       "      <td>NaT</td>\n",
       "      <td>NaT</td>\n",
       "      <td>NaT</td>\n",
       "      <td>NaT</td>\n",
       "      <td>NaT</td>\n",
       "      <td>0</td>\n",
       "    </tr>\n",
       "    <tr>\n",
       "      <td>4</td>\n",
       "      <td>1943-04-17</td>\n",
       "      <td>NaT</td>\n",
       "      <td>Male</td>\n",
       "      <td>White</td>\n",
       "      <td>0</td>\n",
       "      <td>0</td>\n",
       "      <td>0</td>\n",
       "      <td>0</td>\n",
       "      <td>0</td>\n",
       "      <td>NaT</td>\n",
       "      <td>NaT</td>\n",
       "      <td>NaT</td>\n",
       "      <td>NaT</td>\n",
       "      <td>NaT</td>\n",
       "      <td>0</td>\n",
       "    </tr>\n",
       "  </tbody>\n",
       "</table>\n",
       "</div>"
      ],
      "text/plain": [
       "  BIRTH_DATE_off DEATH_DATE_off     sex                    race  LUNG  \\\n",
       "0     1959-12-02            NaT    Male  Black/African-American     1   \n",
       "1     1955-11-18     2016-04-20    Male  Black/African-American     1   \n",
       "2     1946-01-14     2015-05-25  Female  Black/African-American     1   \n",
       "3     1932-07-28            NaT  Female  Black/African-American     0   \n",
       "4     1943-04-17            NaT    Male                   White     0   \n",
       "\n",
       "   PANCREAS  THYROID  COLORECTAL  MELANOMA    LUNG DT PANCREAS_DT THYROID_DT  \\\n",
       "0         0        0           0         0 2013-09-01         NaT        NaT   \n",
       "1         0        0           0         0 2016-04-02         NaT        NaT   \n",
       "2         0        0           0         0 2015-04-11         NaT        NaT   \n",
       "3         0        0           0         0        NaT         NaT        NaT   \n",
       "4         0        0           0         0        NaT         NaT        NaT   \n",
       "\n",
       "  COLORECTAL_DT MELANOMA_DT  status  \n",
       "0           NaT         NaT       0  \n",
       "1           NaT         NaT       1  \n",
       "2           NaT         NaT       1  \n",
       "3           NaT         NaT       0  \n",
       "4           NaT         NaT       0  "
      ]
     },
     "execution_count": 9,
     "metadata": {},
     "output_type": "execute_result"
    }
   ],
   "source": [
    "# Keep patients who died after 8/25/16\n",
    "# Censoring status 0 = censored, 1 = dead\n",
    "before_cutoff\n",
    "before_cutoff['status'] = before_cutoff['DEATH_DATE_off'].apply(lambda x: 0 if (x > datetime.date(2016, 8, 25) or type(x) == pd._libs.tslibs.nattype.NaTType) else 1)\n",
    "before_cutoff.head()"
   ]
  },
  {
   "cell_type": "code",
   "execution_count": 10,
   "metadata": {},
   "outputs": [
    {
     "data": {
      "text/plain": [
       "0    8063\n",
       "1     400\n",
       "Name: status, dtype: int64"
      ]
     },
     "execution_count": 10,
     "metadata": {},
     "output_type": "execute_result"
    }
   ],
   "source": [
    "before_cutoff.status.value_counts()"
   ]
  },
  {
   "cell_type": "code",
   "execution_count": 11,
   "metadata": {},
   "outputs": [
    {
     "data": {
      "text/plain": [
       "(4148, 15)"
      ]
     },
     "execution_count": 11,
     "metadata": {},
     "output_type": "execute_result"
    }
   ],
   "source": [
    "# Remove all patients who do not have a diagnosis date\n",
    "diagnosis_col = ['LUNG DT', 'PANCREAS_DT', 'THYROID_DT', 'COLORECTAL_DT', 'MELANOMA_DT']\n",
    "\n",
    "clean_df = before_cutoff.dropna(how = 'all', subset = diagnosis_col)\n",
    "clean_df.reset_index(drop = True, inplace = True)\n",
    "clean_df.shape"
   ]
  },
  {
   "cell_type": "code",
   "execution_count": 12,
   "metadata": {},
   "outputs": [
    {
     "data": {
      "text/html": [
       "<div>\n",
       "<style scoped>\n",
       "    .dataframe tbody tr th:only-of-type {\n",
       "        vertical-align: middle;\n",
       "    }\n",
       "\n",
       "    .dataframe tbody tr th {\n",
       "        vertical-align: top;\n",
       "    }\n",
       "\n",
       "    .dataframe thead th {\n",
       "        text-align: right;\n",
       "    }\n",
       "</style>\n",
       "<table border=\"1\" class=\"dataframe\">\n",
       "  <thead>\n",
       "    <tr style=\"text-align: right;\">\n",
       "      <th></th>\n",
       "      <th>BIRTH_DATE_off</th>\n",
       "      <th>DEATH_DATE_off</th>\n",
       "      <th>sex</th>\n",
       "      <th>race</th>\n",
       "      <th>LUNG</th>\n",
       "      <th>PANCREAS</th>\n",
       "      <th>THYROID</th>\n",
       "      <th>COLORECTAL</th>\n",
       "      <th>MELANOMA</th>\n",
       "      <th>LUNG DT</th>\n",
       "      <th>PANCREAS_DT</th>\n",
       "      <th>THYROID_DT</th>\n",
       "      <th>COLORECTAL_DT</th>\n",
       "      <th>MELANOMA_DT</th>\n",
       "      <th>status</th>\n",
       "    </tr>\n",
       "  </thead>\n",
       "  <tbody>\n",
       "    <tr>\n",
       "      <td>0</td>\n",
       "      <td>1959-12-02</td>\n",
       "      <td>NaT</td>\n",
       "      <td>Male</td>\n",
       "      <td>Black/African-American</td>\n",
       "      <td>1</td>\n",
       "      <td>0</td>\n",
       "      <td>0</td>\n",
       "      <td>0</td>\n",
       "      <td>0</td>\n",
       "      <td>2013-09-01</td>\n",
       "      <td>NaT</td>\n",
       "      <td>NaT</td>\n",
       "      <td>NaT</td>\n",
       "      <td>NaT</td>\n",
       "      <td>0</td>\n",
       "    </tr>\n",
       "    <tr>\n",
       "      <td>1</td>\n",
       "      <td>1955-11-18</td>\n",
       "      <td>2016-04-20</td>\n",
       "      <td>Male</td>\n",
       "      <td>Black/African-American</td>\n",
       "      <td>1</td>\n",
       "      <td>0</td>\n",
       "      <td>0</td>\n",
       "      <td>0</td>\n",
       "      <td>0</td>\n",
       "      <td>2016-04-02</td>\n",
       "      <td>NaT</td>\n",
       "      <td>NaT</td>\n",
       "      <td>NaT</td>\n",
       "      <td>NaT</td>\n",
       "      <td>1</td>\n",
       "    </tr>\n",
       "    <tr>\n",
       "      <td>2</td>\n",
       "      <td>1946-01-14</td>\n",
       "      <td>2015-05-25</td>\n",
       "      <td>Female</td>\n",
       "      <td>Black/African-American</td>\n",
       "      <td>1</td>\n",
       "      <td>0</td>\n",
       "      <td>0</td>\n",
       "      <td>0</td>\n",
       "      <td>0</td>\n",
       "      <td>2015-04-11</td>\n",
       "      <td>NaT</td>\n",
       "      <td>NaT</td>\n",
       "      <td>NaT</td>\n",
       "      <td>NaT</td>\n",
       "      <td>1</td>\n",
       "    </tr>\n",
       "    <tr>\n",
       "      <td>3</td>\n",
       "      <td>1946-11-03</td>\n",
       "      <td>NaT</td>\n",
       "      <td>Female</td>\n",
       "      <td>Black/African-American</td>\n",
       "      <td>0</td>\n",
       "      <td>0</td>\n",
       "      <td>1</td>\n",
       "      <td>0</td>\n",
       "      <td>0</td>\n",
       "      <td>NaT</td>\n",
       "      <td>NaT</td>\n",
       "      <td>2012-11-29</td>\n",
       "      <td>NaT</td>\n",
       "      <td>NaT</td>\n",
       "      <td>0</td>\n",
       "    </tr>\n",
       "    <tr>\n",
       "      <td>4</td>\n",
       "      <td>1938-06-10</td>\n",
       "      <td>NaT</td>\n",
       "      <td>Female</td>\n",
       "      <td>Black/African-American</td>\n",
       "      <td>0</td>\n",
       "      <td>0</td>\n",
       "      <td>1</td>\n",
       "      <td>0</td>\n",
       "      <td>0</td>\n",
       "      <td>NaT</td>\n",
       "      <td>NaT</td>\n",
       "      <td>2012-06-24</td>\n",
       "      <td>NaT</td>\n",
       "      <td>NaT</td>\n",
       "      <td>0</td>\n",
       "    </tr>\n",
       "  </tbody>\n",
       "</table>\n",
       "</div>"
      ],
      "text/plain": [
       "  BIRTH_DATE_off DEATH_DATE_off     sex                    race  LUNG  \\\n",
       "0     1959-12-02            NaT    Male  Black/African-American     1   \n",
       "1     1955-11-18     2016-04-20    Male  Black/African-American     1   \n",
       "2     1946-01-14     2015-05-25  Female  Black/African-American     1   \n",
       "3     1946-11-03            NaT  Female  Black/African-American     0   \n",
       "4     1938-06-10            NaT  Female  Black/African-American     0   \n",
       "\n",
       "   PANCREAS  THYROID  COLORECTAL  MELANOMA    LUNG DT PANCREAS_DT THYROID_DT  \\\n",
       "0         0        0           0         0 2013-09-01         NaT        NaT   \n",
       "1         0        0           0         0 2016-04-02         NaT        NaT   \n",
       "2         0        0           0         0 2015-04-11         NaT        NaT   \n",
       "3         0        1           0         0        NaT         NaT 2012-11-29   \n",
       "4         0        1           0         0        NaT         NaT 2012-06-24   \n",
       "\n",
       "  COLORECTAL_DT MELANOMA_DT  status  \n",
       "0           NaT         NaT       0  \n",
       "1           NaT         NaT       1  \n",
       "2           NaT         NaT       1  \n",
       "3           NaT         NaT       0  \n",
       "4           NaT         NaT       0  "
      ]
     },
     "execution_count": 12,
     "metadata": {},
     "output_type": "execute_result"
    }
   ],
   "source": [
    "clean_df.head()"
   ]
  },
  {
   "cell_type": "code",
   "execution_count": 13,
   "metadata": {},
   "outputs": [
    {
     "data": {
      "text/plain": [
       "count    4148.000000\n",
       "mean       60.939971\n",
       "std        14.935292\n",
       "min         0.000000\n",
       "25%        53.000000\n",
       "50%        63.000000\n",
       "75%        71.000000\n",
       "max       102.000000\n",
       "Name: age, dtype: float64"
      ]
     },
     "execution_count": 13,
     "metadata": {},
     "output_type": "execute_result"
    }
   ],
   "source": [
    "# derive age at the time of cancer diagnosis\n",
    "clean_df['earliest_diagnosis'] = clean_df[diagnosis_col].min(axis = 1)\n",
    "clean_df['age'] = ((clean_df['earliest_diagnosis'] - clean_df.BIRTH_DATE_off).dt.days/365).astype(int)\n",
    "\n",
    "clean_df.age.describe()"
   ]
  },
  {
   "cell_type": "code",
   "execution_count": 14,
   "metadata": {},
   "outputs": [
    {
     "data": {
      "text/html": [
       "<div>\n",
       "<style scoped>\n",
       "    .dataframe tbody tr th:only-of-type {\n",
       "        vertical-align: middle;\n",
       "    }\n",
       "\n",
       "    .dataframe tbody tr th {\n",
       "        vertical-align: top;\n",
       "    }\n",
       "\n",
       "    .dataframe thead th {\n",
       "        text-align: right;\n",
       "    }\n",
       "</style>\n",
       "<table border=\"1\" class=\"dataframe\">\n",
       "  <thead>\n",
       "    <tr style=\"text-align: right;\">\n",
       "      <th></th>\n",
       "      <th>BIRTH_DATE_off</th>\n",
       "      <th>DEATH_DATE_off</th>\n",
       "      <th>sex</th>\n",
       "      <th>race</th>\n",
       "      <th>LUNG</th>\n",
       "      <th>PANCREAS</th>\n",
       "      <th>THYROID</th>\n",
       "      <th>COLORECTAL</th>\n",
       "      <th>MELANOMA</th>\n",
       "      <th>LUNG DT</th>\n",
       "      <th>PANCREAS_DT</th>\n",
       "      <th>THYROID_DT</th>\n",
       "      <th>COLORECTAL_DT</th>\n",
       "      <th>MELANOMA_DT</th>\n",
       "      <th>status</th>\n",
       "      <th>earliest_diagnosis</th>\n",
       "      <th>age</th>\n",
       "      <th>age_groups</th>\n",
       "    </tr>\n",
       "  </thead>\n",
       "  <tbody>\n",
       "    <tr>\n",
       "      <td>0</td>\n",
       "      <td>1959-12-02</td>\n",
       "      <td>NaT</td>\n",
       "      <td>Male</td>\n",
       "      <td>Black/African-American</td>\n",
       "      <td>1</td>\n",
       "      <td>0</td>\n",
       "      <td>0</td>\n",
       "      <td>0</td>\n",
       "      <td>0</td>\n",
       "      <td>2013-09-01</td>\n",
       "      <td>NaT</td>\n",
       "      <td>NaT</td>\n",
       "      <td>NaT</td>\n",
       "      <td>NaT</td>\n",
       "      <td>0</td>\n",
       "      <td>2013-09-01</td>\n",
       "      <td>53</td>\n",
       "      <td>5</td>\n",
       "    </tr>\n",
       "    <tr>\n",
       "      <td>1</td>\n",
       "      <td>1955-11-18</td>\n",
       "      <td>2016-04-20</td>\n",
       "      <td>Male</td>\n",
       "      <td>Black/African-American</td>\n",
       "      <td>1</td>\n",
       "      <td>0</td>\n",
       "      <td>0</td>\n",
       "      <td>0</td>\n",
       "      <td>0</td>\n",
       "      <td>2016-04-02</td>\n",
       "      <td>NaT</td>\n",
       "      <td>NaT</td>\n",
       "      <td>NaT</td>\n",
       "      <td>NaT</td>\n",
       "      <td>1</td>\n",
       "      <td>2016-04-02</td>\n",
       "      <td>60</td>\n",
       "      <td>5</td>\n",
       "    </tr>\n",
       "    <tr>\n",
       "      <td>2</td>\n",
       "      <td>1946-01-14</td>\n",
       "      <td>2015-05-25</td>\n",
       "      <td>Female</td>\n",
       "      <td>Black/African-American</td>\n",
       "      <td>1</td>\n",
       "      <td>0</td>\n",
       "      <td>0</td>\n",
       "      <td>0</td>\n",
       "      <td>0</td>\n",
       "      <td>2015-04-11</td>\n",
       "      <td>NaT</td>\n",
       "      <td>NaT</td>\n",
       "      <td>NaT</td>\n",
       "      <td>NaT</td>\n",
       "      <td>1</td>\n",
       "      <td>2015-04-11</td>\n",
       "      <td>69</td>\n",
       "      <td>6</td>\n",
       "    </tr>\n",
       "    <tr>\n",
       "      <td>3</td>\n",
       "      <td>1946-11-03</td>\n",
       "      <td>NaT</td>\n",
       "      <td>Female</td>\n",
       "      <td>Black/African-American</td>\n",
       "      <td>0</td>\n",
       "      <td>0</td>\n",
       "      <td>1</td>\n",
       "      <td>0</td>\n",
       "      <td>0</td>\n",
       "      <td>NaT</td>\n",
       "      <td>NaT</td>\n",
       "      <td>2012-11-29</td>\n",
       "      <td>NaT</td>\n",
       "      <td>NaT</td>\n",
       "      <td>0</td>\n",
       "      <td>2012-11-29</td>\n",
       "      <td>66</td>\n",
       "      <td>6</td>\n",
       "    </tr>\n",
       "    <tr>\n",
       "      <td>4</td>\n",
       "      <td>1938-06-10</td>\n",
       "      <td>NaT</td>\n",
       "      <td>Female</td>\n",
       "      <td>Black/African-American</td>\n",
       "      <td>0</td>\n",
       "      <td>0</td>\n",
       "      <td>1</td>\n",
       "      <td>0</td>\n",
       "      <td>0</td>\n",
       "      <td>NaT</td>\n",
       "      <td>NaT</td>\n",
       "      <td>2012-06-24</td>\n",
       "      <td>NaT</td>\n",
       "      <td>NaT</td>\n",
       "      <td>0</td>\n",
       "      <td>2012-06-24</td>\n",
       "      <td>74</td>\n",
       "      <td>7</td>\n",
       "    </tr>\n",
       "  </tbody>\n",
       "</table>\n",
       "</div>"
      ],
      "text/plain": [
       "  BIRTH_DATE_off DEATH_DATE_off     sex                    race  LUNG  \\\n",
       "0     1959-12-02            NaT    Male  Black/African-American     1   \n",
       "1     1955-11-18     2016-04-20    Male  Black/African-American     1   \n",
       "2     1946-01-14     2015-05-25  Female  Black/African-American     1   \n",
       "3     1946-11-03            NaT  Female  Black/African-American     0   \n",
       "4     1938-06-10            NaT  Female  Black/African-American     0   \n",
       "\n",
       "   PANCREAS  THYROID  COLORECTAL  MELANOMA    LUNG DT PANCREAS_DT THYROID_DT  \\\n",
       "0         0        0           0         0 2013-09-01         NaT        NaT   \n",
       "1         0        0           0         0 2016-04-02         NaT        NaT   \n",
       "2         0        0           0         0 2015-04-11         NaT        NaT   \n",
       "3         0        1           0         0        NaT         NaT 2012-11-29   \n",
       "4         0        1           0         0        NaT         NaT 2012-06-24   \n",
       "\n",
       "  COLORECTAL_DT MELANOMA_DT  status earliest_diagnosis  age age_groups  \n",
       "0           NaT         NaT       0         2013-09-01   53          5  \n",
       "1           NaT         NaT       1         2016-04-02   60          5  \n",
       "2           NaT         NaT       1         2015-04-11   69          6  \n",
       "3           NaT         NaT       0         2012-11-29   66          6  \n",
       "4           NaT         NaT       0         2012-06-24   74          7  "
      ]
     },
     "execution_count": 14,
     "metadata": {},
     "output_type": "execute_result"
    }
   ],
   "source": [
    "# create age groups\n",
    "age_bins = [-1] + list(np.linspace(10, 110, 11))\n",
    "clean_df['age_groups'] = pd.cut(x = clean_df['age'], bins = age_bins, labels = [0, 1, 2, 3, 4, 5, 6, 7, 8, 9, 10])\n",
    "clean_df['age_groups'].astype('int')\n",
    "\n",
    "clean_df.head()"
   ]
  },
  {
   "cell_type": "code",
   "execution_count": 15,
   "metadata": {},
   "outputs": [],
   "source": [
    "# categorize race into White, Black/African-American, Asian/Mideast Indian, and Others\n",
    "race = ['White', 'Black/African-American', 'Asian/Mideast Indian']\n",
    "clean_df['ethnicity'] = clean_df.race.apply(lambda x: x if x in race else 'Others')"
   ]
  },
  {
   "cell_type": "code",
   "execution_count": 16,
   "metadata": {},
   "outputs": [
    {
     "data": {
      "text/html": [
       "<div>\n",
       "<style scoped>\n",
       "    .dataframe tbody tr th:only-of-type {\n",
       "        vertical-align: middle;\n",
       "    }\n",
       "\n",
       "    .dataframe tbody tr th {\n",
       "        vertical-align: top;\n",
       "    }\n",
       "\n",
       "    .dataframe thead th {\n",
       "        text-align: right;\n",
       "    }\n",
       "</style>\n",
       "<table border=\"1\" class=\"dataframe\">\n",
       "  <thead>\n",
       "    <tr style=\"text-align: right;\">\n",
       "      <th></th>\n",
       "      <th>BIRTH_DATE_off</th>\n",
       "      <th>DEATH_DATE_off</th>\n",
       "      <th>sex</th>\n",
       "      <th>race</th>\n",
       "      <th>LUNG</th>\n",
       "      <th>PANCREAS</th>\n",
       "      <th>THYROID</th>\n",
       "      <th>COLORECTAL</th>\n",
       "      <th>MELANOMA</th>\n",
       "      <th>LUNG DT</th>\n",
       "      <th>...</th>\n",
       "      <th>THYROID_DT</th>\n",
       "      <th>COLORECTAL_DT</th>\n",
       "      <th>MELANOMA_DT</th>\n",
       "      <th>status</th>\n",
       "      <th>earliest_diagnosis</th>\n",
       "      <th>age</th>\n",
       "      <th>age_groups</th>\n",
       "      <th>ethnicity</th>\n",
       "      <th>cutoff_date</th>\n",
       "      <th>time</th>\n",
       "    </tr>\n",
       "  </thead>\n",
       "  <tbody>\n",
       "    <tr>\n",
       "      <td>0</td>\n",
       "      <td>1959-12-02</td>\n",
       "      <td>NaT</td>\n",
       "      <td>Male</td>\n",
       "      <td>Black/African-American</td>\n",
       "      <td>1</td>\n",
       "      <td>0</td>\n",
       "      <td>0</td>\n",
       "      <td>0</td>\n",
       "      <td>0</td>\n",
       "      <td>2013-09-01</td>\n",
       "      <td>...</td>\n",
       "      <td>NaT</td>\n",
       "      <td>NaT</td>\n",
       "      <td>NaT</td>\n",
       "      <td>0</td>\n",
       "      <td>2013-09-01</td>\n",
       "      <td>53</td>\n",
       "      <td>5</td>\n",
       "      <td>Black/African-American</td>\n",
       "      <td>2016-08-25</td>\n",
       "      <td>1089</td>\n",
       "    </tr>\n",
       "    <tr>\n",
       "      <td>1</td>\n",
       "      <td>1955-11-18</td>\n",
       "      <td>2016-04-20</td>\n",
       "      <td>Male</td>\n",
       "      <td>Black/African-American</td>\n",
       "      <td>1</td>\n",
       "      <td>0</td>\n",
       "      <td>0</td>\n",
       "      <td>0</td>\n",
       "      <td>0</td>\n",
       "      <td>2016-04-02</td>\n",
       "      <td>...</td>\n",
       "      <td>NaT</td>\n",
       "      <td>NaT</td>\n",
       "      <td>NaT</td>\n",
       "      <td>1</td>\n",
       "      <td>2016-04-02</td>\n",
       "      <td>60</td>\n",
       "      <td>5</td>\n",
       "      <td>Black/African-American</td>\n",
       "      <td>2016-04-20</td>\n",
       "      <td>18</td>\n",
       "    </tr>\n",
       "    <tr>\n",
       "      <td>2</td>\n",
       "      <td>1946-01-14</td>\n",
       "      <td>2015-05-25</td>\n",
       "      <td>Female</td>\n",
       "      <td>Black/African-American</td>\n",
       "      <td>1</td>\n",
       "      <td>0</td>\n",
       "      <td>0</td>\n",
       "      <td>0</td>\n",
       "      <td>0</td>\n",
       "      <td>2015-04-11</td>\n",
       "      <td>...</td>\n",
       "      <td>NaT</td>\n",
       "      <td>NaT</td>\n",
       "      <td>NaT</td>\n",
       "      <td>1</td>\n",
       "      <td>2015-04-11</td>\n",
       "      <td>69</td>\n",
       "      <td>6</td>\n",
       "      <td>Black/African-American</td>\n",
       "      <td>2015-05-25</td>\n",
       "      <td>44</td>\n",
       "    </tr>\n",
       "    <tr>\n",
       "      <td>3</td>\n",
       "      <td>1946-11-03</td>\n",
       "      <td>NaT</td>\n",
       "      <td>Female</td>\n",
       "      <td>Black/African-American</td>\n",
       "      <td>0</td>\n",
       "      <td>0</td>\n",
       "      <td>1</td>\n",
       "      <td>0</td>\n",
       "      <td>0</td>\n",
       "      <td>NaT</td>\n",
       "      <td>...</td>\n",
       "      <td>2012-11-29</td>\n",
       "      <td>NaT</td>\n",
       "      <td>NaT</td>\n",
       "      <td>0</td>\n",
       "      <td>2012-11-29</td>\n",
       "      <td>66</td>\n",
       "      <td>6</td>\n",
       "      <td>Black/African-American</td>\n",
       "      <td>2016-08-25</td>\n",
       "      <td>1365</td>\n",
       "    </tr>\n",
       "    <tr>\n",
       "      <td>4</td>\n",
       "      <td>1938-06-10</td>\n",
       "      <td>NaT</td>\n",
       "      <td>Female</td>\n",
       "      <td>Black/African-American</td>\n",
       "      <td>0</td>\n",
       "      <td>0</td>\n",
       "      <td>1</td>\n",
       "      <td>0</td>\n",
       "      <td>0</td>\n",
       "      <td>NaT</td>\n",
       "      <td>...</td>\n",
       "      <td>2012-06-24</td>\n",
       "      <td>NaT</td>\n",
       "      <td>NaT</td>\n",
       "      <td>0</td>\n",
       "      <td>2012-06-24</td>\n",
       "      <td>74</td>\n",
       "      <td>7</td>\n",
       "      <td>Black/African-American</td>\n",
       "      <td>2016-08-25</td>\n",
       "      <td>1523</td>\n",
       "    </tr>\n",
       "  </tbody>\n",
       "</table>\n",
       "<p>5 rows × 21 columns</p>\n",
       "</div>"
      ],
      "text/plain": [
       "  BIRTH_DATE_off DEATH_DATE_off     sex                    race  LUNG  \\\n",
       "0     1959-12-02            NaT    Male  Black/African-American     1   \n",
       "1     1955-11-18     2016-04-20    Male  Black/African-American     1   \n",
       "2     1946-01-14     2015-05-25  Female  Black/African-American     1   \n",
       "3     1946-11-03            NaT  Female  Black/African-American     0   \n",
       "4     1938-06-10            NaT  Female  Black/African-American     0   \n",
       "\n",
       "   PANCREAS  THYROID  COLORECTAL  MELANOMA    LUNG DT  ... THYROID_DT  \\\n",
       "0         0        0           0         0 2013-09-01  ...        NaT   \n",
       "1         0        0           0         0 2016-04-02  ...        NaT   \n",
       "2         0        0           0         0 2015-04-11  ...        NaT   \n",
       "3         0        1           0         0        NaT  ... 2012-11-29   \n",
       "4         0        1           0         0        NaT  ... 2012-06-24   \n",
       "\n",
       "  COLORECTAL_DT MELANOMA_DT status  earliest_diagnosis age  age_groups  \\\n",
       "0           NaT         NaT      0          2013-09-01  53           5   \n",
       "1           NaT         NaT      1          2016-04-02  60           5   \n",
       "2           NaT         NaT      1          2015-04-11  69           6   \n",
       "3           NaT         NaT      0          2012-11-29  66           6   \n",
       "4           NaT         NaT      0          2012-06-24  74           7   \n",
       "\n",
       "                ethnicity cutoff_date  time  \n",
       "0  Black/African-American  2016-08-25  1089  \n",
       "1  Black/African-American  2016-04-20    18  \n",
       "2  Black/African-American  2015-05-25    44  \n",
       "3  Black/African-American  2016-08-25  1365  \n",
       "4  Black/African-American  2016-08-25  1523  \n",
       "\n",
       "[5 rows x 21 columns]"
      ]
     },
     "execution_count": 16,
     "metadata": {},
     "output_type": "execute_result"
    }
   ],
   "source": [
    "# time to death\n",
    "clean_df['cutoff_date'] = clean_df['DEATH_DATE_off'].apply(lambda x: min(datetime.date(2016, 8, 25), x))\n",
    "clean_df['time'] = (clean_df['cutoff_date'] - clean_df['earliest_diagnosis']).dt.days\n",
    "clean_df.head()"
   ]
  },
  {
   "cell_type": "markdown",
   "metadata": {},
   "source": [
    "## Survival Analysis"
   ]
  },
  {
   "cell_type": "markdown",
   "metadata": {},
   "source": [
    "Analyze survival rate by gender, race and age group in deciles (11-20, 21-30, ....) for patients with following cancer: lung, pancreas, thyroid, colorectal, melanoma."
   ]
  },
  {
   "cell_type": "code",
   "execution_count": 17,
   "metadata": {},
   "outputs": [],
   "source": [
    "# create different cancer cohorts\n",
    "lung = clean_df[clean_df.LUNG == 1]\n",
    "pancreas = clean_df[clean_df.PANCREAS == 1]\n",
    "thyroid = clean_df[clean_df.THYROID == 1]\n",
    "colorectal = clean_df[clean_df.COLORECTAL == 1]\n",
    "melanoma = clean_df[clean_df.MELANOMA == 1]"
   ]
  },
  {
   "cell_type": "markdown",
   "metadata": {},
   "source": [
    "### Analyze survival rate by gender"
   ]
  },
  {
   "cell_type": "code",
   "execution_count": 18,
   "metadata": {},
   "outputs": [],
   "source": [
    "# analyze by gender\n",
    "def gender_survive(df):\n",
    "    T = df.time\n",
    "    E = df.status\n",
    "    \n",
    "    groups = df.sex\n",
    "    i1 = (groups == 'Male')     \n",
    "    i2 = (groups == 'Female')     \n",
    "\n",
    "    kmf = KaplanMeierFitter() \n",
    "    kmf.fit(T[i1], E[i1], label = 'Male')\n",
    "    a = kmf.plot()\n",
    "\n",
    "    kmf.fit(T[i2], E[i2], label = 'Female')\n",
    "    kmf.plot(ax = a)"
   ]
  },
  {
   "cell_type": "markdown",
   "metadata": {},
   "source": [
    "Based on the following analysis, we could conclude that in the early years after the diagnosis of lung cancer, females tend to have a higher survival rate. But around 5.5 years after diagnosis, males tend to have a higher survial rate."
   ]
  },
  {
   "cell_type": "code",
   "execution_count": 19,
   "metadata": {},
   "outputs": [
    {
     "data": {
      "text/plain": [
       "(0, 5000)"
      ]
     },
     "execution_count": 19,
     "metadata": {},
     "output_type": "execute_result"
    },
    {
     "data": {
      "image/png": "[encoded data removed]",
      "text/plain": [
       "<Figure size 432x288 with 1 Axes>"
      ]
     },
     "metadata": {
      "needs_background": "light"
     },
     "output_type": "display_data"
    }
   ],
   "source": [
    "# create the plots\n",
    "gender_survive(lung)\n",
    "plt.ylim(0.7, 1.0)\n",
    "plt.xlim(0, 5000)"
   ]
  },
  {
   "cell_type": "markdown",
   "metadata": {},
   "source": [
    "For pancreas cancer, males tend to have a higher survival rate."
   ]
  },
  {
   "cell_type": "code",
   "execution_count": 20,
   "metadata": {},
   "outputs": [
    {
     "data": {
      "image/png": "[encoded data removed]",
      "text/plain": [
       "<Figure size 432x288 with 1 Axes>"
      ]
     },
     "metadata": {
      "needs_background": "light"
     },
     "output_type": "display_data"
    }
   ],
   "source": [
    "gender_survive(pancreas)"
   ]
  },
  {
   "cell_type": "markdown",
   "metadata": {},
   "source": [
    "For thyroid cancer, females tend to have a higher survival rate."
   ]
  },
  {
   "cell_type": "code",
   "execution_count": 21,
   "metadata": {},
   "outputs": [
    {
     "data": {
      "image/png": "[encoded data removed]",
      "text/plain": [
       "<Figure size 432x288 with 1 Axes>"
      ]
     },
     "metadata": {
      "needs_background": "light"
     },
     "output_type": "display_data"
    }
   ],
   "source": [
    "gender_survive(thyroid)"
   ]
  },
  {
   "cell_type": "markdown",
   "metadata": {},
   "source": [
    "For colorectal cancer, males and females have similar survival rate in the early years of diagnosis. However, about 8 years after diagnosis, females tend to have lower survival rate."
   ]
  },
  {
   "cell_type": "code",
   "execution_count": 22,
   "metadata": {},
   "outputs": [
    {
     "data": {
      "image/png": "[encoded data removed]",
      "text/plain": [
       "<Figure size 432x288 with 1 Axes>"
      ]
     },
     "metadata": {
      "needs_background": "light"
     },
     "output_type": "display_data"
    }
   ],
   "source": [
    "gender_survive(colorectal)"
   ]
  },
  {
   "cell_type": "markdown",
   "metadata": {},
   "source": [
    "Similar to colorectal cancer, for melanoma cancer, males and females have similar survival rate in the early years of diagnosis. However, about 12 years after diagnosis, females tend to have lower survival rate."
   ]
  },
  {
   "cell_type": "code",
   "execution_count": 23,
   "metadata": {},
   "outputs": [
    {
     "data": {
      "image/png": "[encoded data removed]",
      "text/plain": [
       "<Figure size 432x288 with 1 Axes>"
      ]
     },
     "metadata": {
      "needs_background": "light"
     },
     "output_type": "display_data"
    }
   ],
   "source": [
    "gender_survive(melanoma)"
   ]
  },
  {
   "cell_type": "markdown",
   "metadata": {},
   "source": [
    "### Analyze survival rate by age groups"
   ]
  },
  {
   "cell_type": "markdown",
   "metadata": {},
   "source": [
    "For all cancer types, generally older people tend to have lower survival rate, while there are some exceptions."
   ]
  },
  {
   "cell_type": "code",
   "execution_count": 24,
   "metadata": {},
   "outputs": [
    {
     "data": {
      "text/plain": [
       "Series([], Name: age_groups, dtype: int64)"
      ]
     },
     "execution_count": 24,
     "metadata": {},
     "output_type": "execute_result"
    }
   ],
   "source": [
    "lung.age_groups.value_counts()[lung.age_groups.value_counts() == 0]"
   ]
  },
  {
   "cell_type": "code",
   "execution_count": 25,
   "metadata": {},
   "outputs": [
    {
     "data": {
      "text/plain": [
       "<matplotlib.axes._subplots.AxesSubplot at 0x1228fa190>"
      ]
     },
     "execution_count": 25,
     "metadata": {},
     "output_type": "execute_result"
    },
    {
     "data": {
      "image/png": "[encoded data removed]",
      "text/plain": [
       "<Figure size 432x288 with 1 Axes>"
      ]
     },
     "metadata": {
      "needs_background": "light"
     },
     "output_type": "display_data"
    }
   ],
   "source": [
    "T = lung.time\n",
    "E = lung.status\n",
    "\n",
    "groups = lung.age_groups\n",
    "i1 = (groups == 0)     \n",
    "i2 = (groups == 1)  \n",
    "i3 = (groups == 2)  \n",
    "i4 = (groups == 3)  \n",
    "i5 = (groups == 4)  \n",
    "i6 = (groups == 5)  \n",
    "i7 = (groups == 6)  \n",
    "i8 = (groups == 7)  \n",
    "i9 = (groups == 8)  \n",
    "i10 = (groups == 9) \n",
    "i11 = (groups == 10)  \n",
    "\n",
    "kmf = KaplanMeierFitter() \n",
    "kmf.fit(T[i1], E[i1], label = '0 - 10')\n",
    "a = kmf.plot()\n",
    "\n",
    "kmf.fit(T[i2], E[i2], label = '11 - 20')\n",
    "kmf.plot(ax = a)\n",
    "\n",
    "kmf.fit(T[i3], E[i3], label = '21 - 30')\n",
    "kmf.plot(ax = a)\n",
    "\n",
    "kmf.fit(T[i4], E[i4], label = '31 - 40')\n",
    "kmf.plot(ax = a)\n",
    "\n",
    "kmf.fit(T[i5], E[i5], label = '41 - 50')\n",
    "kmf.plot(ax = a)\n",
    "\n",
    "kmf.fit(T[i6], E[i6], label = '51 - 60')\n",
    "kmf.plot(ax = a)\n",
    "\n",
    "kmf.fit(T[i7], E[i7], label = '61 - 70')\n",
    "kmf.plot(ax = a)\n",
    "\n",
    "kmf.fit(T[i8], E[i8], label = '71 - 80')\n",
    "kmf.plot(ax = a)\n",
    "\n",
    "kmf.fit(T[i9], E[i9], label = '81 - 90')\n",
    "kmf.plot(ax = a)\n",
    "\n",
    "kmf.fit(T[i10], E[i10], label = '91 - 100')\n",
    "kmf.plot(ax = a)\n",
    "\n",
    "kmf.fit(T[i11], E[i11], label = '101 - 110')\n",
    "kmf.plot(ax = a)"
   ]
  },
  {
   "cell_type": "code",
   "execution_count": 26,
   "metadata": {},
   "outputs": [
    {
     "data": {
      "text/plain": [
       "10    0\n",
       "1     0\n",
       "0     0\n",
       "Name: age_groups, dtype: int64"
      ]
     },
     "execution_count": 26,
     "metadata": {},
     "output_type": "execute_result"
    }
   ],
   "source": [
    "pancreas.age_groups.value_counts()[pancreas.age_groups.value_counts() == 0]"
   ]
  },
  {
   "cell_type": "code",
   "execution_count": 27,
   "metadata": {},
   "outputs": [
    {
     "data": {
      "text/plain": [
       "<matplotlib.axes._subplots.AxesSubplot at 0x122904610>"
      ]
     },
     "execution_count": 27,
     "metadata": {},
     "output_type": "execute_result"
    },
    {
     "data": {
      "image/png": "[encoded data removed]",
      "text/plain": [
       "<Figure size 432x288 with 1 Axes>"
      ]
     },
     "metadata": {
      "needs_background": "light"
     },
     "output_type": "display_data"
    }
   ],
   "source": [
    "T = pancreas.time\n",
    "E = pancreas.status\n",
    "\n",
    "groups = pancreas.age_groups \n",
    "i3 = (groups == 2)  \n",
    "i4 = (groups == 3)  \n",
    "i5 = (groups == 4)  \n",
    "i6 = (groups == 5)  \n",
    "i7 = (groups == 6)  \n",
    "i8 = (groups == 7)  \n",
    "i9 = (groups == 8)  \n",
    "i10 = (groups == 9) \n",
    "\n",
    "kmf = KaplanMeierFitter() \n",
    "kmf.fit(T[i3], E[i3], label = '21 - 30')\n",
    "a = kmf.plot()\n",
    "\n",
    "kmf.fit(T[i4], E[i4], label = '31 - 40')\n",
    "kmf.plot(ax = a)\n",
    "\n",
    "kmf.fit(T[i5], E[i5], label = '41 - 50')\n",
    "kmf.plot(ax = a)\n",
    "\n",
    "kmf.fit(T[i6], E[i6], label = '51 - 60')\n",
    "kmf.plot(ax = a)\n",
    "\n",
    "kmf.fit(T[i7], E[i7], label = '61 - 70')\n",
    "kmf.plot(ax = a)\n",
    "\n",
    "kmf.fit(T[i8], E[i8], label = '71 - 80')\n",
    "kmf.plot(ax = a)\n",
    "\n",
    "kmf.fit(T[i9], E[i9], label = '81 - 90')\n",
    "kmf.plot(ax = a)\n",
    "\n",
    "kmf.fit(T[i10], E[i10], label = '91 - 100')\n",
    "kmf.plot(ax = a)"
   ]
  },
  {
   "cell_type": "code",
   "execution_count": 28,
   "metadata": {},
   "outputs": [
    {
     "data": {
      "text/plain": [
       "10    0\n",
       "9     0\n",
       "Name: age_groups, dtype: int64"
      ]
     },
     "execution_count": 28,
     "metadata": {},
     "output_type": "execute_result"
    }
   ],
   "source": [
    "thyroid.age_groups.value_counts()[thyroid.age_groups.value_counts() == 0]"
   ]
  },
  {
   "cell_type": "code",
   "execution_count": 29,
   "metadata": {},
   "outputs": [
    {
     "data": {
      "text/plain": [
       "<matplotlib.axes._subplots.AxesSubplot at 0x1225739d0>"
      ]
     },
     "execution_count": 29,
     "metadata": {},
     "output_type": "execute_result"
    },
    {
     "data": {
      "image/png": "[encoded data removed]",
      "text/plain": [
       "<Figure size 432x288 with 1 Axes>"
      ]
     },
     "metadata": {
      "needs_background": "light"
     },
     "output_type": "display_data"
    }
   ],
   "source": [
    "T = thyroid.time\n",
    "E = thyroid.status\n",
    "\n",
    "groups = thyroid.age_groups\n",
    "i1 = (groups == 0)     \n",
    "i2 = (groups == 1)  \n",
    "i3 = (groups == 2)  \n",
    "i4 = (groups == 3)  \n",
    "i5 = (groups == 4)  \n",
    "i6 = (groups == 5)  \n",
    "i7 = (groups == 6)  \n",
    "i8 = (groups == 7)  \n",
    "i9 = (groups == 8)   \n",
    "\n",
    "kmf = KaplanMeierFitter() \n",
    "kmf.fit(T[i1], E[i1], label = '0 - 10')\n",
    "a = kmf.plot()\n",
    "\n",
    "kmf.fit(T[i2], E[i2], label = '11 - 20')\n",
    "kmf.plot(ax = a)\n",
    "\n",
    "kmf.fit(T[i3], E[i3], label = '21 - 30')\n",
    "kmf.plot(ax = a)\n",
    "\n",
    "kmf.fit(T[i4], E[i4], label = '31 - 40')\n",
    "kmf.plot(ax = a)\n",
    "\n",
    "kmf.fit(T[i5], E[i5], label = '41 - 50')\n",
    "kmf.plot(ax = a)\n",
    "\n",
    "kmf.fit(T[i6], E[i6], label = '51 - 60')\n",
    "kmf.plot(ax = a)\n",
    "\n",
    "kmf.fit(T[i7], E[i7], label = '61 - 70')\n",
    "kmf.plot(ax = a)\n",
    "\n",
    "kmf.fit(T[i8], E[i8], label = '71 - 80')\n",
    "kmf.plot(ax = a)\n",
    "\n",
    "kmf.fit(T[i9], E[i9], label = '81 - 90')\n",
    "kmf.plot(ax = a)"
   ]
  },
  {
   "cell_type": "code",
   "execution_count": 30,
   "metadata": {},
   "outputs": [
    {
     "data": {
      "text/plain": [
       "10    0\n",
       "0     0\n",
       "Name: age_groups, dtype: int64"
      ]
     },
     "execution_count": 30,
     "metadata": {},
     "output_type": "execute_result"
    }
   ],
   "source": [
    "colorectal.age_groups.value_counts()[colorectal.age_groups.value_counts() == 0]"
   ]
  },
  {
   "cell_type": "code",
   "execution_count": 31,
   "metadata": {},
   "outputs": [
    {
     "data": {
      "text/plain": [
       "<matplotlib.axes._subplots.AxesSubplot at 0x1231720d0>"
      ]
     },
     "execution_count": 31,
     "metadata": {},
     "output_type": "execute_result"
    },
    {
     "data": {
      "image/png": "[encoded data removed]",
      "text/plain": [
       "<Figure size 432x288 with 1 Axes>"
      ]
     },
     "metadata": {
      "needs_background": "light"
     },
     "output_type": "display_data"
    }
   ],
   "source": [
    "T = colorectal.time\n",
    "E = colorectal.status\n",
    "\n",
    "groups = colorectal.age_groups    \n",
    "i2 = (groups == 1)  \n",
    "i3 = (groups == 2)  \n",
    "i4 = (groups == 3)  \n",
    "i5 = (groups == 4)  \n",
    "i6 = (groups == 5)  \n",
    "i7 = (groups == 6)  \n",
    "i8 = (groups == 7)  \n",
    "i9 = (groups == 8)  \n",
    "i10 = (groups == 9)  \n",
    "\n",
    "kmf = KaplanMeierFitter() \n",
    "kmf.fit(T[i2], E[i2], label = '11 - 20')\n",
    "a = kmf.plot()\n",
    "\n",
    "kmf.fit(T[i3], E[i3], label = '21 - 30')\n",
    "kmf.plot(ax = a)\n",
    "\n",
    "kmf.fit(T[i4], E[i4], label = '31 - 40')\n",
    "kmf.plot(ax = a)\n",
    "\n",
    "kmf.fit(T[i5], E[i5], label = '41 - 50')\n",
    "kmf.plot(ax = a)\n",
    "\n",
    "kmf.fit(T[i6], E[i6], label = '51 - 60')\n",
    "kmf.plot(ax = a)\n",
    "\n",
    "kmf.fit(T[i7], E[i7], label = '61 - 70')\n",
    "kmf.plot(ax = a)\n",
    "\n",
    "kmf.fit(T[i8], E[i8], label = '71 - 80')\n",
    "kmf.plot(ax = a)\n",
    "\n",
    "kmf.fit(T[i9], E[i9], label = '81 - 90')\n",
    "kmf.plot(ax = a)\n",
    "\n",
    "kmf.fit(T[i10], E[i10], label = '91 - 100')\n",
    "kmf.plot(ax = a)"
   ]
  },
  {
   "cell_type": "code",
   "execution_count": 32,
   "metadata": {},
   "outputs": [
    {
     "data": {
      "text/plain": [
       "10    0\n",
       "0     0\n",
       "Name: age_groups, dtype: int64"
      ]
     },
     "execution_count": 32,
     "metadata": {},
     "output_type": "execute_result"
    }
   ],
   "source": [
    "melanoma.age_groups.value_counts()[melanoma.age_groups.value_counts() == 0]"
   ]
  },
  {
   "cell_type": "code",
   "execution_count": 33,
   "metadata": {},
   "outputs": [
    {
     "data": {
      "text/plain": [
       "<matplotlib.axes._subplots.AxesSubplot at 0x1225cb250>"
      ]
     },
     "execution_count": 33,
     "metadata": {},
     "output_type": "execute_result"
    },
    {
     "data": {
      "image/png": "[encoded data removed]",
      "text/plain": [
       "<Figure size 432x288 with 1 Axes>"
      ]
     },
     "metadata": {
      "needs_background": "light"
     },
     "output_type": "display_data"
    }
   ],
   "source": [
    "T = melanoma.time\n",
    "E = melanoma.status\n",
    "\n",
    "groups = melanoma.age_groups    \n",
    "i2 = (groups == 1)  \n",
    "i3 = (groups == 2)  \n",
    "i4 = (groups == 3)  \n",
    "i5 = (groups == 4)  \n",
    "i6 = (groups == 5)  \n",
    "i7 = (groups == 6)  \n",
    "i8 = (groups == 7)  \n",
    "i9 = (groups == 8)  \n",
    "i10 = (groups == 9)  \n",
    "\n",
    "kmf = KaplanMeierFitter() \n",
    "kmf.fit(T[i2], E[i2], label = '11 - 20')\n",
    "a = kmf.plot()\n",
    "\n",
    "kmf.fit(T[i3], E[i3], label = '21 - 30')\n",
    "kmf.plot(ax = a)\n",
    "\n",
    "kmf.fit(T[i4], E[i4], label = '31 - 40')\n",
    "kmf.plot(ax = a)\n",
    "\n",
    "kmf.fit(T[i5], E[i5], label = '41 - 50')\n",
    "kmf.plot(ax = a)\n",
    "\n",
    "kmf.fit(T[i6], E[i6], label = '51 - 60')\n",
    "kmf.plot(ax = a)\n",
    "\n",
    "kmf.fit(T[i7], E[i7], label = '61 - 70')\n",
    "kmf.plot(ax = a)\n",
    "\n",
    "kmf.fit(T[i8], E[i8], label = '71 - 80')\n",
    "kmf.plot(ax = a)\n",
    "\n",
    "kmf.fit(T[i9], E[i9], label = '81 - 90')\n",
    "kmf.plot(ax = a)\n",
    "\n",
    "kmf.fit(T[i10], E[i10], label = '91 - 100')\n",
    "kmf.plot(ax = a)"
   ]
  },
  {
   "cell_type": "markdown",
   "metadata": {},
   "source": [
    "### Analyze survival rate by race"
   ]
  },
  {
   "cell_type": "markdown",
   "metadata": {},
   "source": [
    "Except for thyroid cancer, African Americans seem to have the lowest survival rate among all ethnicity. "
   ]
  },
  {
   "cell_type": "code",
   "execution_count": 34,
   "metadata": {},
   "outputs": [],
   "source": [
    "def race_survive(df):\n",
    "    T = df.time\n",
    "    E = df.status\n",
    "\n",
    "    groups = df.ethnicity\n",
    "    i1 = (groups == 'White')     \n",
    "    i2 = (groups == 'Black/African-American')    \n",
    "    i3 = (groups == 'Asian/Mideast Indian')  \n",
    "    i4 = (groups == 'Others')\n",
    "\n",
    "    kmf = KaplanMeierFitter() \n",
    "    kmf.fit(T[i1], E[i1], label = 'White')\n",
    "    a = kmf.plot()\n",
    "\n",
    "    kmf.fit(T[i2], E[i2], label = 'Black/African-American')\n",
    "    kmf.plot(ax = a)\n",
    "\n",
    "    kmf.fit(T[i3], E[i3], label = 'Asian/Mideast Indian')\n",
    "    kmf.plot(ax = a)\n",
    "\n",
    "    kmf.fit(T[i4], E[i4], label = 'Others')\n",
    "    kmf.plot(ax = a)"
   ]
  },
  {
   "cell_type": "code",
   "execution_count": 35,
   "metadata": {},
   "outputs": [
    {
     "data": {
      "image/png": "[encoded data removed]",
      "text/plain": [
       "<Figure size 432x288 with 1 Axes>"
      ]
     },
     "metadata": {
      "needs_background": "light"
     },
     "output_type": "display_data"
    }
   ],
   "source": [
    "race_survive(clean_df)"
   ]
  },
  {
   "cell_type": "code",
   "execution_count": 36,
   "metadata": {},
   "outputs": [
    {
     "data": {
      "image/png": "[encoded data removed]",
      "text/plain": [
       "<Figure size 432x288 with 1 Axes>"
      ]
     },
     "metadata": {
      "needs_background": "light"
     },
     "output_type": "display_data"
    }
   ],
   "source": [
    "race_survive(lung)"
   ]
  },
  {
   "cell_type": "code",
   "execution_count": 37,
   "metadata": {},
   "outputs": [
    {
     "data": {
      "image/png": "[encoded data removed]",
      "text/plain": [
       "<Figure size 432x288 with 1 Axes>"
      ]
     },
     "metadata": {
      "needs_background": "light"
     },
     "output_type": "display_data"
    }
   ],
   "source": [
    "race_survive(pancreas)"
   ]
  },
  {
   "cell_type": "code",
   "execution_count": 38,
   "metadata": {},
   "outputs": [
    {
     "data": {
      "image/png": "[encoded data removed]",
      "text/plain": [
       "<Figure size 432x288 with 1 Axes>"
      ]
     },
     "metadata": {
      "needs_background": "light"
     },
     "output_type": "display_data"
    }
   ],
   "source": [
    "race_survive(thyroid)"
   ]
  },
  {
   "cell_type": "code",
   "execution_count": 39,
   "metadata": {},
   "outputs": [
    {
     "data": {
      "image/png": "[encoded data removed]",
      "text/plain": [
       "<Figure size 432x288 with 1 Axes>"
      ]
     },
     "metadata": {
      "needs_background": "light"
     },
     "output_type": "display_data"
    }
   ],
   "source": [
    "race_survive(colorectal)"
   ]
  },
  {
   "cell_type": "code",
   "execution_count": 40,
   "metadata": {},
   "outputs": [
    {
     "data": {
      "image/png": "[encoded data removed]",
      "text/plain": [
       "<Figure size 432x288 with 1 Axes>"
      ]
     },
     "metadata": {
      "needs_background": "light"
     },
     "output_type": "display_data"
    }
   ],
   "source": [
    "race_survive(melanoma)"
   ]
  },
  {
   "cell_type": "markdown",
   "metadata": {},
   "source": [
    "## Questions"
   ]
  },
  {
   "cell_type": "markdown",
   "metadata": {},
   "source": [
    "Q1. Which cancer has the highest survival for this cohort? <br>\n",
    "Q2. Which cancer has the lowest survival for this cohort?\n",
    "\n",
    "Based on the following analysis, for this cohort thyroid cancer has the highest survival, and lung cancer has the lowest survival."
   ]
  },
  {
   "cell_type": "code",
   "execution_count": 41,
   "metadata": {},
   "outputs": [
    {
     "name": "stdout",
     "output_type": "stream",
     "text": [
      "The survival rates for lung cancer, pancreas cancer, thyroid cancer, colorectal cancer, and melanoma cancer are 87.59%, 94.98%, 98.92%, 93.87%, and 95.09%.\n"
     ]
    }
   ],
   "source": [
    "# calculate the survival rate at the end of the study\n",
    "\n",
    "lung_survival = round(len(lung[lung.status == 0])/len(lung)*100, 2)\n",
    "pancreas_survival = round(len(pancreas[pancreas.status == 0])/len(pancreas)*100, 2)\n",
    "thyroid_survival = round(len(thyroid[thyroid.status == 0])/len(thyroid)*100, 2)\n",
    "colorectal_survival = round(len(colorectal[colorectal.status == 0])/len(colorectal)*100, 2)\n",
    "melanoma_survival = round(len(melanoma[melanoma.status == 0])/len(melanoma)*100, 2)\n",
    "\n",
    "print('The survival rates for lung cancer, pancreas cancer, thyroid cancer, colorectal cancer, and melanoma cancer are {}%, {}%, {}%, {}%, and {}%.'.format(lung_survival, pancreas_survival, thyroid_survival, colorectal_survival, melanoma_survival))"
   ]
  },
  {
   "cell_type": "code",
   "execution_count": 42,
   "metadata": {},
   "outputs": [
    {
     "data": {
      "text/plain": [
       "<matplotlib.axes._subplots.AxesSubplot at 0x1238797d0>"
      ]
     },
     "execution_count": 42,
     "metadata": {},
     "output_type": "execute_result"
    },
    {
     "data": {
      "image/png": "[encoded data removed]",
      "text/plain": [
       "<Figure size 432x288 with 1 Axes>"
      ]
     },
     "metadata": {
      "needs_background": "light"
     },
     "output_type": "display_data"
    }
   ],
   "source": [
    "# use the kaplan meier model to plot the survival curve\n",
    "\n",
    "# define duration and event\n",
    "T = clean_df.time\n",
    "E = clean_df.status\n",
    "\n",
    "# define duration and event\n",
    "i1 = (clean_df.LUNG == 1)      \n",
    "i2 = (clean_df.PANCREAS == 1)\n",
    "i3 = (clean_df.THYROID == 1)\n",
    "i4 = (clean_df.COLORECTAL == 1)\n",
    "i5 = (clean_df.MELANOMA == 1)\n",
    "\n",
    "# create an kmf object\n",
    "kmf = KaplanMeierFitter() \n",
    "\n",
    "# fit the first group into the model\n",
    "kmf.fit(T[i1], E[i1], label='Lung Cancer')\n",
    "\n",
    "# create an estimate\n",
    "a = kmf.plot()\n",
    "\n",
    "kmf.fit(T[i2], E[i2], label = 'Pancreas Cancer')\n",
    "kmf.plot(ax = a)\n",
    "\n",
    "kmf.fit(T[i3], E[i3], label = 'Thyroid Cancer')\n",
    "kmf.plot(ax = a)\n",
    "\n",
    "kmf.fit(T[i4], E[i4], label = 'Colorectal Cancer')\n",
    "kmf.plot(ax = a)\n",
    "\n",
    "kmf.fit(T[i5], E[i5], label = 'Melanoma Cancer')\n",
    "kmf.plot(ax = a)"
   ]
  },
  {
   "cell_type": "markdown",
   "metadata": {},
   "source": [
    "Q3. How many patients had 2 cancer diagnosis?\n",
    "\n",
    "For this cohort, 29 patients had 2 cancer diagnosis."
   ]
  },
  {
   "cell_type": "code",
   "execution_count": 43,
   "metadata": {},
   "outputs": [
    {
     "data": {
      "text/plain": [
       "29"
      ]
     },
     "execution_count": 43,
     "metadata": {},
     "output_type": "execute_result"
    }
   ],
   "source": [
    "two_cancer = clean_df.dropna(subset = diagnosis_col, thresh = 2)\n",
    "len(two_cancer)"
   ]
  },
  {
   "cell_type": "markdown",
   "metadata": {},
   "source": [
    "Q4. Which age group has the lowest survival after 400 days since cancer diagnosis?\n",
    "\n",
    "Age group of 101 - 110 years old has the lowest survival rate after 400 days since cancer diagnosis."
   ]
  },
  {
   "cell_type": "code",
   "execution_count": 44,
   "metadata": {},
   "outputs": [
    {
     "name": "stdout",
     "output_type": "stream",
     "text": [
      "0 - 10: 100.0\n",
      "11 - 20: 100.0\n",
      "21 - 30: 99.14\n",
      "31 - 40: 99.14\n",
      "41 - 50: 98.49\n",
      "51 - 60: 95.47\n",
      "61 - 70: 95.25\n",
      "71 - 80: 92.37\n",
      "81 - 90: 93.42\n",
      "91 - 100: 83.2\n",
      "101 - 110: 0.0\n"
     ]
    }
   ],
   "source": [
    "q4 = clean_df[['age_groups', 'time', 'status']]\n",
    "\n",
    "T = q4.time\n",
    "E = q4.status\n",
    "\n",
    "groups = q4.age_groups   \n",
    "i1 = (groups == 0)\n",
    "i2 = (groups == 1)  \n",
    "i3 = (groups == 2)  \n",
    "i4 = (groups == 3)  \n",
    "i5 = (groups == 4)  \n",
    "i6 = (groups == 5)  \n",
    "i7 = (groups == 6)  \n",
    "i8 = (groups == 7)  \n",
    "i9 = (groups == 8)  \n",
    "i10 = (groups == 9) \n",
    "i11 = (groups == 10)\n",
    "\n",
    "i = 0\n",
    "\n",
    "for group in [i1, i2, i3, i4, i5, i6, i7, i8, i9, i10, i11]:\n",
    "    age_groups_label = ['0 - 10', '11 - 20', '21 - 30', '31 - 40', '41 - 50', '51 - 60', '61 - 70', '71 - 80', '81 - 90', '91 - 100', '101 - 110']\n",
    "    kmf = KaplanMeierFitter()\n",
    "    kmf.fit(T[group], E[group])\n",
    "    survival_rate = round(kmf.predict(400) * 100, 2)\n",
    "    print(age_groups_label[i] + ': ' + str(survival_rate))\n",
    "    i += 1"
   ]
  },
  {
   "cell_type": "markdown",
   "metadata": {},
   "source": [
    "Q5. What is the survival rate for females with colorectal cancer after 1000 days since diagnosis?"
   ]
  },
  {
   "cell_type": "code",
   "execution_count": 45,
   "metadata": {},
   "outputs": [
    {
     "name": "stdout",
     "output_type": "stream",
     "text": [
      "Survival rate: 94.84%\n"
     ]
    }
   ],
   "source": [
    "q5 = clean_df[(clean_df.sex == 'Female') & (clean_df.COLORECTAL == 1)]\n",
    "\n",
    "T = q5.time\n",
    "E = q5.status\n",
    "\n",
    "kmf = KaplanMeierFitter()\n",
    "kmf.fit(T, E)\n",
    "survival_rate = round(kmf.predict(1000) * 100, 2)\n",
    "print('Survival rate: ' + str(survival_rate) + '%')"
   ]
  },
  {
   "cell_type": "markdown",
   "metadata": {},
   "source": [
    "Q6. What is the survival rate for males with lung cancer after 300 days since diagnosis?"
   ]
  },
  {
   "cell_type": "code",
   "execution_count": 46,
   "metadata": {},
   "outputs": [
    {
     "name": "stdout",
     "output_type": "stream",
     "text": [
      "Survival rate: 91.5%\n"
     ]
    }
   ],
   "source": [
    "q6 = clean_df[(clean_df.sex == 'Male') & (clean_df.LUNG == 1)]\n",
    "\n",
    "T = q6.time\n",
    "E = q6.status\n",
    "\n",
    "kmf = KaplanMeierFitter()\n",
    "kmf.fit(T, E)\n",
    "survival_rate = round(kmf.predict(300) * 100, 2)\n",
    "print('Survival rate: ' + str(survival_rate) + '%')"
   ]
  },
  {
   "cell_type": "markdown",
   "metadata": {},
   "source": [
    "Q7. What is the survival rate for females with melanoma cancer after 1200 days since diagnosis?"
   ]
  },
  {
   "cell_type": "code",
   "execution_count": 47,
   "metadata": {},
   "outputs": [
    {
     "name": "stdout",
     "output_type": "stream",
     "text": [
      "Survival rate: 95.88%\n"
     ]
    }
   ],
   "source": [
    "q7 = clean_df[(clean_df.sex == 'Female') & (clean_df.MELANOMA == 1)]\n",
    "\n",
    "T = q7.time\n",
    "E = q7.status\n",
    "\n",
    "kmf = KaplanMeierFitter()\n",
    "kmf.fit(T, E)\n",
    "survival_rate = round(kmf.predict(1200) * 100, 2)\n",
    "print('Survival rate: ' + str(survival_rate) + '%')"
   ]
  },
  {
   "cell_type": "markdown",
   "metadata": {},
   "source": [
    "Q8. What is the survival rate for males with thyroid cancer after 1500 days since diagnosis?"
   ]
  },
  {
   "cell_type": "code",
   "execution_count": 48,
   "metadata": {},
   "outputs": [
    {
     "name": "stdout",
     "output_type": "stream",
     "text": [
      "Survival rate: 97.12%\n"
     ]
    }
   ],
   "source": [
    "q8 = clean_df[(clean_df.sex == 'Male') & (clean_df.THYROID == 1)]\n",
    "\n",
    "T = q8.time\n",
    "E = q8.status\n",
    "\n",
    "kmf = KaplanMeierFitter()\n",
    "kmf.fit(T, E)\n",
    "survival_rate = round(kmf.predict(1500) * 100, 2)\n",
    "print('Survival rate: ' + str(survival_rate) + '%')"
   ]
  },
  {
   "cell_type": "markdown",
   "metadata": {},
   "source": [
    "Q9. What is the survival rate for males with pancreatic cancer after 2200 days since diagnosis?"
   ]
  },
  {
   "cell_type": "code",
   "execution_count": 49,
   "metadata": {},
   "outputs": [
    {
     "name": "stdout",
     "output_type": "stream",
     "text": [
      "Survival rate: 95.28%\n"
     ]
    }
   ],
   "source": [
    "q9 = clean_df[(clean_df.sex == 'Male') & (clean_df.PANCREAS == 1)]\n",
    "\n",
    "T = q9.time\n",
    "E = q9.status\n",
    "\n",
    "kmf = KaplanMeierFitter()\n",
    "kmf.fit(T, E)\n",
    "survival_rate = round(kmf.predict(2200) * 100, 2)\n",
    "print('Survival rate: ' + str(survival_rate) + '%')"
   ]
  },
  {
   "cell_type": "markdown",
   "metadata": {},
   "source": [
    "Q10. What is the survival rate for African-Americans with colorectal cancer after 2000 days since diagnosis?"
   ]
  },
  {
   "cell_type": "code",
   "execution_count": 50,
   "metadata": {},
   "outputs": [
    {
     "name": "stdout",
     "output_type": "stream",
     "text": [
      "Survival rate: 77.18%\n"
     ]
    }
   ],
   "source": [
    "q10 = clean_df[(clean_df.ethnicity == 'Black/African-American') & (clean_df.COLORECTAL == 1)]\n",
    "\n",
    "T = q10.time\n",
    "E = q10.status\n",
    "\n",
    "kmf = KaplanMeierFitter()\n",
    "kmf.fit(T, E)\n",
    "survival_rate = round(kmf.predict(2000) * 100, 2)\n",
    "print('Survival rate: ' + str(survival_rate) + '%')"
   ]
  },
  {
   "cell_type": "markdown",
   "metadata": {},
   "source": [
    "Q11. What is the survival rate for Whites with lung cancer after 1000 days since diagnosis?"
   ]
  },
  {
   "cell_type": "code",
   "execution_count": 51,
   "metadata": {},
   "outputs": [
    {
     "name": "stdout",
     "output_type": "stream",
     "text": [
      "Survival rate: 90.92%\n"
     ]
    }
   ],
   "source": [
    "q11 = clean_df[(clean_df.ethnicity == 'White') & (clean_df.LUNG == 1)]\n",
    "\n",
    "T = q11.time\n",
    "E = q11.status\n",
    "\n",
    "kmf = KaplanMeierFitter()\n",
    "kmf.fit(T, E)\n",
    "survival_rate = round(kmf.predict(1000) * 100, 2)\n",
    "print('Survival rate: ' + str(survival_rate) + '%')"
   ]
  },
  {
   "cell_type": "markdown",
   "metadata": {},
   "source": [
    "Q12. What is the survival rate for African-Americans with melanoma cancer after 2 years since diagnosis?"
   ]
  },
  {
   "cell_type": "code",
   "execution_count": 52,
   "metadata": {},
   "outputs": [
    {
     "name": "stdout",
     "output_type": "stream",
     "text": [
      "Survival rate: 82.54%\n"
     ]
    }
   ],
   "source": [
    "q12 = clean_df[(clean_df.ethnicity == 'Black/African-American') & (clean_df.MELANOMA == 1)]\n",
    "\n",
    "T = q12.time\n",
    "E = q12.status\n",
    "\n",
    "kmf = KaplanMeierFitter()\n",
    "kmf.fit(T, E)\n",
    "survival_rate = round(kmf.predict(365 * 2) * 100, 2)\n",
    "print('Survival rate: ' + str(survival_rate) + '%')"
   ]
  },
  {
   "cell_type": "markdown",
   "metadata": {},
   "source": [
    "Q13. What is the survival rate for Whites with pancreatic cancer after 3 years since diagnosis?"
   ]
  },
  {
   "cell_type": "code",
   "execution_count": 53,
   "metadata": {},
   "outputs": [
    {
     "name": "stdout",
     "output_type": "stream",
     "text": [
      "Survival rate: 96.54%\n"
     ]
    }
   ],
   "source": [
    "q13 = clean_df[(clean_df.ethnicity == 'White') & (clean_df.PANCREAS == 1)]\n",
    "\n",
    "T = q13.time\n",
    "E = q13.status\n",
    "\n",
    "kmf = KaplanMeierFitter()\n",
    "kmf.fit(T, E)\n",
    "survival_rate = round(kmf.predict(365 * 3) * 100, 2)\n",
    "print('Survival rate: ' + str(survival_rate) + '%')"
   ]
  },
  {
   "cell_type": "markdown",
   "metadata": {},
   "source": [
    "Q14. What is the survival rate for Asians with thyroid cancer after 1500 days since diagnosis?"
   ]
  },
  {
   "cell_type": "code",
   "execution_count": 54,
   "metadata": {},
   "outputs": [
    {
     "name": "stdout",
     "output_type": "stream",
     "text": [
      "Survival rate: 92.86%\n"
     ]
    }
   ],
   "source": [
    "q14 = clean_df[(clean_df.ethnicity == 'Asian/Mideast Indian') & (clean_df.THYROID == 1)]\n",
    "\n",
    "T = q14.time\n",
    "E = q14.status\n",
    "\n",
    "kmf = KaplanMeierFitter()\n",
    "kmf.fit(T, E)\n",
    "survival_rate = round(kmf.predict(1500) * 100, 2)\n",
    "print('Survival rate: ' + str(survival_rate) + '%')"
   ]
  },
  {
   "cell_type": "markdown",
   "metadata": {},
   "source": [
    "Q15. Which age group has the lowest survival for colorectal cancer at the end of the study?\n",
    "\n",
    "At the end of the study, age group of 91 - 100 years old has the lowest survival rate for colorectal cancer."
   ]
  },
  {
   "cell_type": "code",
   "execution_count": 55,
   "metadata": {},
   "outputs": [
    {
     "data": {
      "text/html": [
       "<div>\n",
       "<style scoped>\n",
       "    .dataframe tbody tr th:only-of-type {\n",
       "        vertical-align: middle;\n",
       "    }\n",
       "\n",
       "    .dataframe tbody tr th {\n",
       "        vertical-align: top;\n",
       "    }\n",
       "\n",
       "    .dataframe thead th {\n",
       "        text-align: right;\n",
       "    }\n",
       "</style>\n",
       "<table border=\"1\" class=\"dataframe\">\n",
       "  <thead>\n",
       "    <tr style=\"text-align: right;\">\n",
       "      <th></th>\n",
       "      <th>status</th>\n",
       "    </tr>\n",
       "    <tr>\n",
       "      <th>age_groups</th>\n",
       "      <th></th>\n",
       "    </tr>\n",
       "  </thead>\n",
       "  <tbody>\n",
       "    <tr>\n",
       "      <td>0</td>\n",
       "      <td>NaN</td>\n",
       "    </tr>\n",
       "    <tr>\n",
       "      <td>1</td>\n",
       "      <td>100.00</td>\n",
       "    </tr>\n",
       "    <tr>\n",
       "      <td>2</td>\n",
       "      <td>100.00</td>\n",
       "    </tr>\n",
       "    <tr>\n",
       "      <td>3</td>\n",
       "      <td>94.12</td>\n",
       "    </tr>\n",
       "    <tr>\n",
       "      <td>4</td>\n",
       "      <td>94.81</td>\n",
       "    </tr>\n",
       "    <tr>\n",
       "      <td>5</td>\n",
       "      <td>94.47</td>\n",
       "    </tr>\n",
       "    <tr>\n",
       "      <td>6</td>\n",
       "      <td>93.00</td>\n",
       "    </tr>\n",
       "    <tr>\n",
       "      <td>7</td>\n",
       "      <td>94.34</td>\n",
       "    </tr>\n",
       "    <tr>\n",
       "      <td>8</td>\n",
       "      <td>90.77</td>\n",
       "    </tr>\n",
       "    <tr>\n",
       "      <td>9</td>\n",
       "      <td>87.50</td>\n",
       "    </tr>\n",
       "    <tr>\n",
       "      <td>10</td>\n",
       "      <td>NaN</td>\n",
       "    </tr>\n",
       "  </tbody>\n",
       "</table>\n",
       "</div>"
      ],
      "text/plain": [
       "            status\n",
       "age_groups        \n",
       "0              NaN\n",
       "1           100.00\n",
       "2           100.00\n",
       "3            94.12\n",
       "4            94.81\n",
       "5            94.47\n",
       "6            93.00\n",
       "7            94.34\n",
       "8            90.77\n",
       "9            87.50\n",
       "10             NaN"
      ]
     },
     "execution_count": 55,
     "metadata": {},
     "output_type": "execute_result"
    }
   ],
   "source": [
    "q15 = clean_df.loc[clean_df.COLORECTAL == 1, ['age_groups', 'status']]\n",
    "\n",
    "def survival_rate(status):\n",
    "    survival = round(len(status[status == 0])/len(status)*100, 2)\n",
    "    return survival\n",
    "\n",
    "q15.groupby('age_groups').agg({'status': survival_rate})"
   ]
  },
  {
   "cell_type": "markdown",
   "metadata": {},
   "source": [
    "Q16. Which age group has the highest survival for lung cancer at the end of the study?\n",
    "\n",
    "At the end of the study, age groups of 0 - 10 and 11 - 20 years old have the highest survival rate for lung cancer."
   ]
  },
  {
   "cell_type": "code",
   "execution_count": 56,
   "metadata": {},
   "outputs": [
    {
     "data": {
      "text/html": [
       "<div>\n",
       "<style scoped>\n",
       "    .dataframe tbody tr th:only-of-type {\n",
       "        vertical-align: middle;\n",
       "    }\n",
       "\n",
       "    .dataframe tbody tr th {\n",
       "        vertical-align: top;\n",
       "    }\n",
       "\n",
       "    .dataframe thead th {\n",
       "        text-align: right;\n",
       "    }\n",
       "</style>\n",
       "<table border=\"1\" class=\"dataframe\">\n",
       "  <thead>\n",
       "    <tr style=\"text-align: right;\">\n",
       "      <th></th>\n",
       "      <th>status</th>\n",
       "    </tr>\n",
       "    <tr>\n",
       "      <th>age_groups</th>\n",
       "      <th></th>\n",
       "    </tr>\n",
       "  </thead>\n",
       "  <tbody>\n",
       "    <tr>\n",
       "      <td>0</td>\n",
       "      <td>100.00</td>\n",
       "    </tr>\n",
       "    <tr>\n",
       "      <td>1</td>\n",
       "      <td>100.00</td>\n",
       "    </tr>\n",
       "    <tr>\n",
       "      <td>2</td>\n",
       "      <td>85.71</td>\n",
       "    </tr>\n",
       "    <tr>\n",
       "      <td>3</td>\n",
       "      <td>89.47</td>\n",
       "    </tr>\n",
       "    <tr>\n",
       "      <td>4</td>\n",
       "      <td>95.70</td>\n",
       "    </tr>\n",
       "    <tr>\n",
       "      <td>5</td>\n",
       "      <td>87.46</td>\n",
       "    </tr>\n",
       "    <tr>\n",
       "      <td>6</td>\n",
       "      <td>87.15</td>\n",
       "    </tr>\n",
       "    <tr>\n",
       "      <td>7</td>\n",
       "      <td>86.78</td>\n",
       "    </tr>\n",
       "    <tr>\n",
       "      <td>8</td>\n",
       "      <td>88.62</td>\n",
       "    </tr>\n",
       "    <tr>\n",
       "      <td>9</td>\n",
       "      <td>60.00</td>\n",
       "    </tr>\n",
       "    <tr>\n",
       "      <td>10</td>\n",
       "      <td>0.00</td>\n",
       "    </tr>\n",
       "  </tbody>\n",
       "</table>\n",
       "</div>"
      ],
      "text/plain": [
       "            status\n",
       "age_groups        \n",
       "0           100.00\n",
       "1           100.00\n",
       "2            85.71\n",
       "3            89.47\n",
       "4            95.70\n",
       "5            87.46\n",
       "6            87.15\n",
       "7            86.78\n",
       "8            88.62\n",
       "9            60.00\n",
       "10            0.00"
      ]
     },
     "execution_count": 56,
     "metadata": {},
     "output_type": "execute_result"
    }
   ],
   "source": [
    "q16 = clean_df.loc[clean_df.LUNG == 1, ['age_groups', 'status']]\n",
    "\n",
    "def survival_rate(status):\n",
    "    survival = round(len(status[status == 0])/len(status)*100, 2)\n",
    "    return survival\n",
    "\n",
    "q16.groupby('age_groups').agg({'status': survival_rate})"
   ]
  },
  {
   "cell_type": "markdown",
   "metadata": {},
   "source": [
    "Q17. What is the survival rate for 61-70 age group with melanoma cancer after 5 years since diagnosis?"
   ]
  },
  {
   "cell_type": "code",
   "execution_count": 57,
   "metadata": {},
   "outputs": [
    {
     "name": "stdout",
     "output_type": "stream",
     "text": [
      "Survival rate: 97.18%\n"
     ]
    }
   ],
   "source": [
    "q17 = clean_df[(clean_df.age_groups == 6) & (clean_df.MELANOMA == 1)]\n",
    "\n",
    "T = q17.time\n",
    "E = q17.status\n",
    "\n",
    "kmf = KaplanMeierFitter()\n",
    "kmf.fit(T, E)\n",
    "survival_rate = round(kmf.predict(365 * 5) * 100, 2)\n",
    "print('Survival rate: ' + str(survival_rate) + '%')"
   ]
  },
  {
   "cell_type": "markdown",
   "metadata": {},
   "source": [
    "Q18. What is the survival rate for 21 - 30 age group with pancreatic cancer after a year since diagnosis?"
   ]
  },
  {
   "cell_type": "code",
   "execution_count": 58,
   "metadata": {},
   "outputs": [
    {
     "name": "stdout",
     "output_type": "stream",
     "text": [
      "Survival rate: 80.0%\n"
     ]
    }
   ],
   "source": [
    "q18 = clean_df[(clean_df.age_groups == 2) & (clean_df.PANCREAS == 1)]\n",
    "\n",
    "T = q18.time\n",
    "E = q18.status\n",
    "\n",
    "kmf = KaplanMeierFitter()\n",
    "kmf.fit(T, E)\n",
    "survival_rate = round(kmf.predict(365) * 100, 2)\n",
    "print('Survival rate: ' + str(survival_rate) + '%')"
   ]
  },
  {
   "cell_type": "markdown",
   "metadata": {},
   "source": [
    "Q19. What is the survival rate for 51 - 60 age group with thyroid cancer after 2200 days since diagnosis?"
   ]
  },
  {
   "cell_type": "code",
   "execution_count": 59,
   "metadata": {},
   "outputs": [
    {
     "name": "stdout",
     "output_type": "stream",
     "text": [
      "Survival rate: 97.44%\n"
     ]
    }
   ],
   "source": [
    "q19 = clean_df[(clean_df.age_groups == 5) & (clean_df.THYROID == 1)]\n",
    "\n",
    "T = q19.time\n",
    "E = q19.status\n",
    "\n",
    "kmf = KaplanMeierFitter()\n",
    "kmf.fit(T, E)\n",
    "survival_rate = round(kmf.predict(2200) * 100, 2)\n",
    "print('Survival rate: ' + str(survival_rate) + '%')"
   ]
  },
  {
   "cell_type": "markdown",
   "metadata": {},
   "source": [
    "Q20. Which race has the high survival for all cancers after 2500 days since diagnosis?\n",
    "\n",
    "White has the highest survival rate for all cancers after 2500 days since diagnosis."
   ]
  },
  {
   "cell_type": "code",
   "execution_count": 60,
   "metadata": {},
   "outputs": [
    {
     "name": "stdout",
     "output_type": "stream",
     "text": [
      "White: 92.63%\n",
      "African-American: 74.18%\n",
      "Asian/Mideast-Indian: 92.35%\n",
      "Others: 92.36%\n"
     ]
    }
   ],
   "source": [
    "q20 = clean_df[['ethnicity', 'time', 'status']]\n",
    "\n",
    "T = q20.time\n",
    "E = q20.status\n",
    "\n",
    "groups = q20.ethnicity  \n",
    "i1 = (groups == 'White')     \n",
    "i2 = (groups == 'Black/African-American')    \n",
    "i3 = (groups == 'Asian/Mideast Indian')  \n",
    "i4 = (groups == 'Others')\n",
    "\n",
    "i = 0\n",
    "\n",
    "for group in [i1, i2, i3, i4]:\n",
    "    race_label = ['White', 'African-American', 'Asian/Mideast-Indian', 'Others']\n",
    "    kmf = KaplanMeierFitter()\n",
    "    kmf.fit(T[group], E[group])\n",
    "    survival_rate = round(kmf.predict(2500) * 100, 2)\n",
    "    print(race_label[i] + ': ' + str(survival_rate) + '%')\n",
    "    i += 1"
   ]
  }
 ],
 "metadata": {
  "kernelspec": {
   "display_name": "Python 3",
   "language": "python",
   "name": "python3"
  },
  "language_info": {
   "codemirror_mode": {
    "name": "ipython",
    "version": 3
   },
   "file_extension": ".py",
   "mimetype": "text/x-python",
   "name": "python",
   "nbconvert_exporter": "python",
   "pygments_lexer": "ipython3",
   "version": "3.7.4"
  }
 },
 "nbformat": 4,
 "nbformat_minor": 2
}
